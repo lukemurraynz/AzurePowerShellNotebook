{
 "cells": [
  {
   "cell_type": "markdown",
   "metadata": {},
   "source": [
    "# Introduction to PowerShell in Azure\n",
    "\n",
    "## PowerShell\n",
    "\n",
    "PowerShell is a powerful scripting and automation framework developed by Microsoft. It is designed for task automation and configuration management and is particularly useful for managing and automating Microsoft Windows environments. PowerShell uses a command-line interface with a scriptable approach, and it's built on the .NET Framework.\n",
    "\n",
    "* [What is PowerShell?](https://learn.microsoft.com/powershell/scripting/overview?view=powershell-7.3&WT.mc_id=AZ-MVP-5004796)\n",
    "\n",
    "## PowerShell and Microsoft Azure\n",
    "\n",
    "When it comes to Microsoft Azure, PowerShell provides a robust set of cmdlets (pronounced \"command-lets\") that enable you to interact with and manage Azure resources, making it a valuable tool for working with Azure services. \n",
    "\n",
    "When you run a PowerShell cmdlet to, for example, create a virtual machine or retrieve information about an Azure resource, the cmdlet translates your request into an HTTP request to the relevant Azure REST API endpoint.\n",
    "\n",
    "* [Azure PowerShell Documentation](https://learn.microsoft.com/powershell/azure/?view=azps-10.4.1&WT.mc_id=AZ-MVP-5004796)\n",
    "\n",
    "## Notebook\n",
    "\n",
    "Computational notebooks are interactive environments that allow users to write and execute code, view results, and add explanatory text in a single document. They are often used for data analysis, scientific research, and sharing code and insights.\n",
    "\n",
    "The term \"polyglot\" in this context means that you can use multiple programming languages within the same notebook. For example, Jupyter notebooks, one of the most popular types of computational notebooks, can support various programming languages like Python, R, Julia, and more.\n",
    "\n",
    "The ability to use multiple languages in a single notebook can be valuable when you want to combine the strengths of different programming languages for a specific task or when collaborating with individuals who have expertise in different languages. It allows you to create a more versatile and flexible computing environment within a single document.\n",
    "\n",
    "We are using a .NET interactive notebook supporting PowerShell, for the purposes of this course.\n",
    "\n",
    "* [Polyglot Notebooks! Multi-language notebooks in Visual Studio Code](https://devblogs.microsoft.com/dotnet/announcing-polyglot-notebooks-harness-the-power-of-multilanguage-notebooks-in-visual-studio-code/?WT.mc_id=AZ-MVP-5004796)"
   ]
  },
  {
   "cell_type": "code",
   "execution_count": 29,
   "metadata": {
    "dotnet_interactive": {
     "language": "pwsh"
    },
    "polyglot_notebook": {
     "kernelName": "pwsh"
    }
   },
   "outputs": [
    {
     "name": "stdout",
     "output_type": "stream",
     "text": [
      "\n",
      "\u001b[32;1mName                           Value\u001b[0m\n",
      "\u001b[32;1m----                           -----\u001b[0m\n",
      "PSVersion                      7.3.6\n",
      "PSEdition                      Core\n",
      "GitCommitId                    7.3.6\n",
      "OS                             Linux 6.2.0-1015-azure #15~22.04.1-Ubuntu SMP Fri Oct  6 13:20:44 U…\n",
      "Platform                       Unix\n",
      "PSCompatibleVersions           {1.0, 2.0, 3.0, 4.0…}\n",
      "PSRemotingProtocolVersion      2.3\n",
      "SerializationVersion           1.1.0.1\n",
      "WSManStackVersion              3.0\n",
      "\n"
     ]
    }
   ],
   "source": [
    "# Get PSVersion\n",
    "# The command $PSVersionTable is used to display the version of PowerShell that is currently being used.\n",
    "# The output of this command includes information such as the PowerShell version, the CLR version, the build version, and the PSRemoting protocol version.\n",
    "# This command is useful when you need to check the PowerShell version for compatibility with scripts or modules, or when reporting issues.\n",
    "\n",
    "$PSVersionTable"
   ]
  },
  {
   "cell_type": "markdown",
   "metadata": {},
   "source": [
    "## Setting up your Azure environment for PowerShell"
   ]
  },
  {
   "cell_type": "code",
   "execution_count": 9,
   "metadata": {
    "dotnet_interactive": {
     "language": "pwsh"
    },
    "polyglot_notebook": {
     "kernelName": "pwsh"
    }
   },
   "outputs": [],
   "source": [
    "# Install Azure Modules\n",
    "# The Set-PSRepository cmdlet is used to set values for a registered repository. \n",
    "# The Install-Module cmdlet is used to download one or more modules from an online gallery and installs them on the local computer. In this case, the command is installing the Az module, which provides cmdlets for managing Azure resources.\n",
    "Set-PSRepository -Name 'PSGallery' -InstallationPolicy Trusted\n",
    "Install-Module Az "
   ]
  },
  {
   "cell_type": "code",
   "execution_count": 30,
   "metadata": {
    "dotnet_interactive": {
     "language": "pwsh"
    },
    "polyglot_notebook": {
     "kernelName": "pwsh"
    }
   },
   "outputs": [],
   "source": [
    "# Install Azure Module as Current User (as opposed to System)\n",
    "# '-Scope CurrentUser` specifies that the module should be installed only for the current user. If you don't specify a scope, the default is `AllUsers`, which requires administrator permissions.\n",
    "\n",
    "Install-Module -Name Az -Repository PSGallery -Scope CurrentUser"
   ]
  },
  {
   "cell_type": "code",
   "execution_count": 37,
   "metadata": {
    "dotnet_interactive": {
     "language": "pwsh"
    },
    "polyglot_notebook": {
     "kernelName": "pwsh"
    }
   },
   "outputs": [],
   "source": [
    "# Install specific version of Azure Modules\n",
    "\n",
    "Install-Module -Name Az -RequiredVersion 4.6.1 "
   ]
  },
  {
   "cell_type": "code",
   "execution_count": null,
   "metadata": {
    "dotnet_interactive": {
     "language": "pwsh"
    },
    "polyglot_notebook": {
     "kernelName": "pwsh"
    }
   },
   "outputs": [],
   "source": [
    "# Update Azure Module\n",
    "# The command Get-InstalledModule -Name Az* | Update-Module is used to update all installed PowerShell modules that start with \"Az\".\n",
    "Set-PSRepository -Name 'PSGallery' -InstallationPolicy Trusted\n",
    "Get-InstalledModule -Name Az* | Update-Module"
   ]
  },
  {
   "cell_type": "code",
   "execution_count": null,
   "metadata": {
    "dotnet_interactive": {
     "language": "pwsh"
    },
    "polyglot_notebook": {
     "kernelName": "pwsh"
    }
   },
   "outputs": [],
   "source": [
    "# Gets Az Commands\n",
    "# Note: Will take a while for all the cmdlets to list.\n",
    "Get-Command -Noun Az*\n"
   ]
  },
  {
   "cell_type": "markdown",
   "metadata": {},
   "source": [
    "## Getting started with Azure PowerShell module"
   ]
  },
  {
   "cell_type": "code",
   "execution_count": 14,
   "metadata": {
    "dotnet_interactive": {
     "language": "pwsh"
    },
    "polyglot_notebook": {
     "kernelName": "pwsh"
    }
   },
   "outputs": [
    {
     "name": "stdout",
     "output_type": "stream",
     "text": [
      "\u001b[93mWARNING: To sign in, use a web browser to open the page https://microsoft.com/devicelogin and enter the code JEQEF358T to authenticate.\u001b[0m\n",
      "\u001b[93mWARNING: TenantId '2463cfda-1c0b-43f5-b6e5-1c370752bb93' contains more than one active subscription. First one will be selected for further use. To select another subscription, use Set-AzContext. \n",
      "To override which subscription Connect-AzAccount selects by default, use `Update-AzConfig -DefaultSubscriptionForLogin 00000000-0000-0000-0000-000000000000`. Go to https://go.microsoft.com/fwlink/?linkid=2200610 for more information.\u001b[0m\n",
      "\u001b[93mWARNING: Unable to acquire token for tenant 'b4c9f32e-da17-4ded-9c95-ce9da38f25d9' with error 'SharedTokenCacheCredential authentication unavailable. Token acquisition failed for user lukejmurray@gmail.com. Ensure that you have authenticated with a developer tool that supports Azure single sign on.'\u001b[0m\n",
      "\u001b[93mWARNING: Unable to acquire token for tenant 'b4c9f32e-da17-4ded-9c95-ce9da38f25d9' with error 'SharedTokenCacheCredential authentication unavailable. Token acquisition failed for user lukejmurray@gmail.com. Ensure that you have authenticated with a developer tool that supports Azure single sign on.'\u001b[0m\n",
      "\n",
      "\u001b[32;1mAccount               SubscriptionName                     TenantId                             Env\u001b[0m\n",
      "\u001b[32;1m                                                                                                iro\u001b[0m\n",
      "\u001b[32;1m                                                                                                nme\u001b[0m\n",
      "\u001b[32;1m                                                                                                nt\u001b[0m\n",
      "\u001b[32;1m-------               ----------------                     --------                             ---\u001b[0m\n",
      "lukejmurray@gmail.com lukemurray-mvp-azsponsorship-sub-dev 2463cfda-1c0b-43f5-b6e5-1c370752bb93 Az…\n",
      "\n"
     ]
    }
   ],
   "source": [
    "# Connect to Azure\n",
    "# WARNING: Interactive authentication is not supported in this session, please run cmdlet 'Connect-AzAccount -UseDeviceAuthentication'.\n",
    "Connect-AzAccount -UseDeviceAuthentication"
   ]
  },
  {
   "cell_type": "code",
   "execution_count": null,
   "metadata": {
    "dotnet_interactive": {
     "language": "pwsh"
    },
    "polyglot_notebook": {
     "kernelName": "pwsh"
    }
   },
   "outputs": [],
   "source": [
    "# Connect to Azure using Service Principal authentication\n",
    "\n",
    "$SecurePassword = ConvertTo-SecureString -String \"Password123!\" -AsPlainText -Force\n",
    "$TenantId = 'yyyyyyyy-yyyy-yyyy-yyyy-yyyyyyy'\n",
    "$ApplicationId = 'zzzzzzzz-zzzz-zzzz-zzzz-zzzzzzzz'\n",
    "$Credential = New-Object -TypeName System.Management.Automation.PSCredential -ArgumentList $ApplicationId, $SecurePassword\n",
    "Connect-AzAccount -ServicePrincipal -TenantId $TenantId -Credential $Credential"
   ]
  },
  {
   "cell_type": "code",
   "execution_count": 15,
   "metadata": {
    "dotnet_interactive": {
     "language": "pwsh"
    },
    "polyglot_notebook": {
     "kernelName": "pwsh"
    }
   },
   "outputs": [
    {
     "name": "stdout",
     "output_type": "stream",
     "text": [
      "\u001b[93mWARNING: Unable to acquire token for tenant 'b4c9f32e-da17-4ded-9c95-ce9da38f25d9' with error 'SharedTokenCacheCredential authentication unavailable. Token acquisition failed for user lukejmurray@gmail.com. Ensure that you have authenticated with a developer tool that supports Azure single sign on.'\u001b[0m\n",
      "\n",
      "\u001b[32;1mName                                          Id                                   TenantId\u001b[0m\n",
      "\u001b[32;1m----                                          --                                   --------        \u001b[0m\n",
      "lukemurray-mvp-azsponsorship-sub-dev          6bca53bc-98d9-4cd3-92e7-0364c7bffac4 2463cfda-1c0b-4…\n",
      "lukemurray-mvp-visualstudioenterprise-sub-dev 11b74992-d520-46e1-a9e9-b55c57d2e890 2463cfda-1c0b-4…\n",
      "\n"
     ]
    }
   ],
   "source": [
    "# Get Azure Subscriptions\n",
    "Get-AzSubscription"
   ]
  },
  {
   "cell_type": "code",
   "execution_count": 19,
   "metadata": {
    "dotnet_interactive": {
     "language": "pwsh"
    },
    "polyglot_notebook": {
     "kernelName": "pwsh"
    }
   },
   "outputs": [
    {
     "name": "stdout",
     "output_type": "stream",
     "text": [
      "\u001b[31;1mSet-AzContext: \u001b[0m\n",
      "\u001b[31;1m\u001b[36;1mLine |\u001b[0m\n",
      "\u001b[31;1m\u001b[36;1m\u001b[36;1m   3 | \u001b[0m Set-AzContext -SubscriptionId \u001b[36;1m$subid\u001b[0m\n",
      "\u001b[31;1m\u001b[36;1m\u001b[36;1m\u001b[0m\u001b[36;1m\u001b[0m\u001b[36;1m     | \u001b[31;1m                               ~~~~~~\u001b[0m\n",
      "\u001b[31;1m\u001b[36;1m\u001b[36;1m\u001b[0m\u001b[36;1m\u001b[0m\u001b[36;1m\u001b[31;1m\u001b[31;1m\u001b[36;1m     | \u001b[31;1mCannot validate argument on parameter 'Subscription'. The argument is null or empty. Provide an argument that is not null or empty, and then try the command again.\u001b[0m\n"
     ]
    },
    {
     "ename": "Error",
     "evalue": "Command failed: SubmitCode: # Select Azure Subscription ...",
     "output_type": "error",
     "traceback": [
      "Command failed: SubmitCode: # Select Azure Subscription ..."
     ]
    }
   ],
   "source": [
    "# Select Azure Subscription\n",
    "$subid = ''\n",
    "Set-AzContext -SubscriptionId $subid"
   ]
  },
  {
   "cell_type": "code",
   "execution_count": 13,
   "metadata": {
    "dotnet_interactive": {
     "language": "pwsh"
    },
    "polyglot_notebook": {
     "kernelName": "pwsh"
    }
   },
   "outputs": [
    {
     "name": "stdout",
     "output_type": "stream",
     "text": [
      "\n",
      "\u001b[32;1mResourceGroupName Location      ProvisioningState Tags                 TagsTable\u001b[0m\n",
      "\u001b[32;1m----------------- --------      ----------------- ----                 ---------                   \u001b[0m\n",
      "backup-rg-prod    australiaeast Succeeded         {}                                               \n",
      "network-rg-prod   australiaeast Succeeded         {[DoNotDelete, :-)]} …                           \n",
      "backuprsv-prod    australiaeast Succeeded                                                          \n",
      "erer              eastus        Succeeded         {[DoNotDelete, :-)]} …                           \n",
      "\n",
      "\n",
      "\u001b[32;1mName                         ResourceGroupName ResourceType                         Location\u001b[0m\n",
      "\u001b[32;1m----                         ----------------- ------------                         --------\u001b[0m\n",
      "bckvault                     backup-rg-prod    Microsoft.RecoveryServices/vaults    australiaeast\n",
      "prod-rsv-aue                 backuprsv-prod    Microsoft.RecoveryServices/vaults    australiaeast\n",
      "sdddd                        erer              Microsoft.CognitiveServices/accounts eastus\n",
      "NetworkWatcher_australiaeast network-rg-prod   Microsoft.Network/networkWatchers    australiaeast\n",
      "vnet-aue-prod                network-rg-prod   Microsoft.Network/virtualNetworks    australiaeast\n",
      "\n"
     ]
    }
   ],
   "source": [
    "# Get Azure resource groups and resources\n",
    "Get-AzResourceGroup | Format-Table\n",
    "Get-AzResource | Format-Table"
   ]
  },
  {
   "cell_type": "code",
   "execution_count": 14,
   "metadata": {
    "dotnet_interactive": {
     "language": "pwsh"
    },
    "polyglot_notebook": {
     "kernelName": "pwsh"
    }
   },
   "outputs": [
    {
     "name": "stdout",
     "output_type": "stream",
     "text": [
      "\n",
      "\u001b[32;1mName              : \u001b[0mbckvault\n",
      "\u001b[32;1mResourceGroupName : \u001b[0mbackup-rg-prod\n",
      "\u001b[32;1mResourceType      : \u001b[0mMicrosoft.RecoveryServices/vaults\n",
      "\u001b[32;1mLocation          : \u001b[0maustraliaeast\n",
      "\u001b[32;1mResourceId        : \u001b[0m/subscriptions/6bca53bc-98d9-4cd3-92e7-0364c7bffac4/resourceGroups/backup-rg-pr\n",
      "                    od/providers/Microsoft.RecoveryServices/vaults/bckvault\n",
      "\u001b[32;1mTags              : \u001b[0m\n",
      "\n",
      "\u001b[32;1mName              : \u001b[0mprod-rsv-aue\n",
      "\u001b[32;1mResourceGroupName : \u001b[0mbackuprsv-prod\n",
      "\u001b[32;1mResourceType      : \u001b[0mMicrosoft.RecoveryServices/vaults\n",
      "\u001b[32;1mLocation          : \u001b[0maustraliaeast\n",
      "\u001b[32;1mResourceId        : \u001b[0m/subscriptions/6bca53bc-98d9-4cd3-92e7-0364c7bffac4/resourceGroups/backuprsv-pr\n",
      "                    od/providers/Microsoft.RecoveryServices/vaults/prod-rsv-aue\n",
      "\u001b[32;1mTags              : \u001b[0m\n",
      "                    Name               Value      \n",
      "                    =================  ===========\n",
      "                    Environment        Production \n",
      "                    Application Owner  Luke Murray\n",
      "                    \n",
      "\n",
      "\u001b[32;1mName              : \u001b[0msdddd\n",
      "\u001b[32;1mResourceGroupName : \u001b[0merer\n",
      "\u001b[32;1mResourceType      : \u001b[0mMicrosoft.CognitiveServices/accounts\n",
      "\u001b[32;1mLocation          : \u001b[0meastus\n",
      "\u001b[32;1mResourceId        : \u001b[0m/subscriptions/6bca53bc-98d9-4cd3-92e7-0364c7bffac4/resourceGroups/erer/provide\n",
      "                    rs/Microsoft.CognitiveServices/accounts/sdddd\n",
      "\u001b[32;1mTags              : \u001b[0m\n",
      "\n",
      "\u001b[32;1mName              : \u001b[0mNetworkWatcher_australiaeast\n",
      "\u001b[32;1mResourceGroupName : \u001b[0mnetwork-rg-prod\n",
      "\u001b[32;1mResourceType      : \u001b[0mMicrosoft.Network/networkWatchers\n",
      "\u001b[32;1mLocation          : \u001b[0maustraliaeast\n",
      "\u001b[32;1mResourceId        : \u001b[0m/subscriptions/6bca53bc-98d9-4cd3-92e7-0364c7bffac4/resourceGroups/network-rg-p\n",
      "                    rod/providers/Microsoft.Network/networkWatchers/NetworkWatcher_australiaeast\n",
      "\u001b[32;1mTags              : \u001b[0m\n",
      "\n",
      "\u001b[32;1mName              : \u001b[0mvnet-aue-prod\n",
      "\u001b[32;1mResourceGroupName : \u001b[0mnetwork-rg-prod\n",
      "\u001b[32;1mResourceType      : \u001b[0mMicrosoft.Network/virtualNetworks\n",
      "\u001b[32;1mLocation          : \u001b[0maustraliaeast\n",
      "\u001b[32;1mResourceId        : \u001b[0m/subscriptions/6bca53bc-98d9-4cd3-92e7-0364c7bffac4/resourceGroups/network-rg-p\n",
      "                    rod/providers/Microsoft.Network/virtualNetworks/vnet-aue-prod\n",
      "\u001b[32;1mTags              : \u001b[0m\n",
      "\n",
      "\n"
     ]
    }
   ],
   "source": [
    "# Get Azure resource\n",
    "Get-AzResource"
   ]
  },
  {
   "cell_type": "code",
   "execution_count": 16,
   "metadata": {
    "dotnet_interactive": {
     "language": "pwsh"
    },
    "polyglot_notebook": {
     "kernelName": "pwsh"
    }
   },
   "outputs": [
    {
     "name": "stdout",
     "output_type": "stream",
     "text": [
      "\n",
      "\u001b[32;1mName              : \u001b[0mvnet-aue-prod\n",
      "\u001b[32;1mResourceGroupName : \u001b[0mnetwork-rg-prod\n",
      "\u001b[32;1mResourceType      : \u001b[0mMicrosoft.Network/virtualNetworks\n",
      "\u001b[32;1mLocation          : \u001b[0maustraliaeast\n",
      "\u001b[32;1mResourceId        : \u001b[0m/subscriptions/6bca53bc-98d9-4cd3-92e7-0364c7bffac4/resourceGroups/network-rg-p\n",
      "                    rod/providers/Microsoft.Network/virtualNetworks/vnet-aue-prod\n",
      "\u001b[32;1mTags              : \u001b[0m\n",
      "\n",
      "\n"
     ]
    }
   ],
   "source": [
    "# Get Azure resource by ResourceType\n",
    "Get-AzResource | Where-Object {$_.ResourceType -eq 'Microsoft.Network/virtualNetworks'} \n"
   ]
  },
  {
   "cell_type": "code",
   "execution_count": 17,
   "metadata": {
    "dotnet_interactive": {
     "language": "pwsh"
    },
    "polyglot_notebook": {
     "kernelName": "pwsh"
    }
   },
   "outputs": [
    {
     "name": "stdout",
     "output_type": "stream",
     "text": [
      "\n",
      "\u001b[32;1mName              : \u001b[0mbckvault\n",
      "\u001b[32;1mResourceGroupName : \u001b[0mbackup-rg-prod\n",
      "\u001b[32;1mResourceType      : \u001b[0mMicrosoft.RecoveryServices/vaults\n",
      "\u001b[32;1mLocation          : \u001b[0maustraliaeast\n",
      "\u001b[32;1mResourceId        : \u001b[0m/subscriptions/6bca53bc-98d9-4cd3-92e7-0364c7bffac4/resourceGroups/backup-rg-pr\n",
      "                    od/providers/Microsoft.RecoveryServices/vaults/bckvault\n",
      "\u001b[32;1mTags              : \u001b[0m\n",
      "\n",
      "\u001b[32;1mName              : \u001b[0mprod-rsv-aue\n",
      "\u001b[32;1mResourceGroupName : \u001b[0mbackuprsv-prod\n",
      "\u001b[32;1mResourceType      : \u001b[0mMicrosoft.RecoveryServices/vaults\n",
      "\u001b[32;1mLocation          : \u001b[0maustraliaeast\n",
      "\u001b[32;1mResourceId        : \u001b[0m/subscriptions/6bca53bc-98d9-4cd3-92e7-0364c7bffac4/resourceGroups/backuprsv-pr\n",
      "                    od/providers/Microsoft.RecoveryServices/vaults/prod-rsv-aue\n",
      "\u001b[32;1mTags              : \u001b[0m\n",
      "                    Name               Value      \n",
      "                    =================  ===========\n",
      "                    Environment        Production \n",
      "                    Application Owner  Luke Murray\n",
      "                    \n",
      "\n",
      "\u001b[32;1mName              : \u001b[0msdddd\n",
      "\u001b[32;1mResourceGroupName : \u001b[0merer\n",
      "\u001b[32;1mResourceType      : \u001b[0mMicrosoft.CognitiveServices/accounts\n",
      "\u001b[32;1mLocation          : \u001b[0meastus\n",
      "\u001b[32;1mResourceId        : \u001b[0m/subscriptions/6bca53bc-98d9-4cd3-92e7-0364c7bffac4/resourceGroups/erer/provide\n",
      "                    rs/Microsoft.CognitiveServices/accounts/sdddd\n",
      "\u001b[32;1mTags              : \u001b[0m\n",
      "\n",
      "\u001b[32;1mName              : \u001b[0mNetworkWatcher_australiaeast\n",
      "\u001b[32;1mResourceGroupName : \u001b[0mnetwork-rg-prod\n",
      "\u001b[32;1mResourceType      : \u001b[0mMicrosoft.Network/networkWatchers\n",
      "\u001b[32;1mLocation          : \u001b[0maustraliaeast\n",
      "\u001b[32;1mResourceId        : \u001b[0m/subscriptions/6bca53bc-98d9-4cd3-92e7-0364c7bffac4/resourceGroups/network-rg-p\n",
      "                    rod/providers/Microsoft.Network/networkWatchers/NetworkWatcher_australiaeast\n",
      "\u001b[32;1mTags              : \u001b[0m\n",
      "\n",
      "\u001b[32;1mName              : \u001b[0mvnet-aue-prod\n",
      "\u001b[32;1mResourceGroupName : \u001b[0mnetwork-rg-prod\n",
      "\u001b[32;1mResourceType      : \u001b[0mMicrosoft.Network/virtualNetworks\n",
      "\u001b[32;1mLocation          : \u001b[0maustraliaeast\n",
      "\u001b[32;1mResourceId        : \u001b[0m/subscriptions/6bca53bc-98d9-4cd3-92e7-0364c7bffac4/resourceGroups/network-rg-p\n",
      "                    rod/providers/Microsoft.Network/virtualNetworks/vnet-aue-prod\n",
      "\u001b[32;1mTags              : \u001b[0m\n",
      "\n",
      "\n"
     ]
    }
   ],
   "source": [
    "# Sort Azure resource by Name and Resource Group\n",
    "Get-AzResource | Where-Object {$_.ResourceType -eq 'Microsoft.Storage/storageAccounts'} | Sort-Object Name\n",
    "Get-AzResource | Sort-Object ResourceGroupName "
   ]
  },
  {
   "cell_type": "code",
   "execution_count": 36,
   "metadata": {
    "dotnet_interactive": {
     "language": "pwsh"
    },
    "polyglot_notebook": {
     "kernelName": "pwsh"
    }
   },
   "outputs": [
    {
     "name": "stdout",
     "output_type": "stream",
     "text": [
      "\n",
      "\u001b[32;1mName              : \u001b[0mvnet-aue-prod\n",
      "\u001b[32;1mResourceGroupName : \u001b[0mnetwork-rg-prod\n",
      "\u001b[32;1mResourceType      : \u001b[0mMicrosoft.Network/virtualNetworks\n",
      "\u001b[32;1mLocation          : \u001b[0maustraliaeast\n",
      "\u001b[32;1mResourceId        : \u001b[0m/subscriptions/6bca53bc-98d9-4cd3-92e7-0364c7bffac4/resourceGroups/network-rg-p\n",
      "                    rod/providers/Microsoft.Network/virtualNetworks/vnet-aue-prod\n",
      "\u001b[32;1mTags              : \u001b[0m\n",
      "\n",
      "\n"
     ]
    }
   ],
   "source": [
    "# Working with Variables\n",
    "\n",
    "# Working with variables and data types in PowerShell\n",
    "$resourceType = 'Microsoft.Network/virtualNetworks'\n",
    "Get-AzResource | Where-Object {$_.ResourceType -eq $resourceType}"
   ]
  },
  {
   "cell_type": "code",
   "execution_count": 35,
   "metadata": {
    "dotnet_interactive": {
     "language": "pwsh"
    },
    "polyglot_notebook": {
     "kernelName": "pwsh"
    }
   },
   "outputs": [
    {
     "name": "stdout",
     "output_type": "stream",
     "text": [
      "You have 5 resources in your Azure subscription.\n"
     ]
    }
   ],
   "source": [
    "# Using PowerShell operators for comparisons and calculations\n",
    "\n",
    "$resources = Get-AzResource\n",
    "$count = $resources.Count\n",
    "Write-Host \"You have $count resources in your Azure subscription.\""
   ]
  },
  {
   "cell_type": "code",
   "execution_count": 23,
   "metadata": {
    "dotnet_interactive": {
     "language": "pwsh"
    },
    "polyglot_notebook": {
     "kernelName": "pwsh"
    }
   },
   "outputs": [
    {
     "name": "stdout",
     "output_type": "stream",
     "text": [
      "Found a virtual network: vnet-aue-prod\n",
      "\u001b[92mThis virtual network is in network-rg-prod\u001b[0m\n"
     ]
    }
   ],
   "source": [
    "# Scripting constructs: loops and conditional statements\n",
    "$resources = Get-AzResource\n",
    "\n",
    "foreach ($resource in $resources) {\n",
    "    if ($resource.ResourceType -eq 'Microsoft.Network/virtualNetworks') {\n",
    "        Write-Host \"Found a virtual network: $($resource.Name)\"\n",
    "        Write-Host \"This virtual network is in $($resource.ResourceGroupName)\" -ForegroundColor Green\n",
    "    }\n",
    "}"
   ]
  },
  {
   "cell_type": "code",
   "execution_count": 41,
   "metadata": {
    "dotnet_interactive": {
     "language": "pwsh"
    },
    "polyglot_notebook": {
     "kernelName": "pwsh"
    }
   },
   "outputs": [
    {
     "name": "stdout",
     "output_type": "stream",
     "text": [
      "\u001b[93mWARNING: Unable to acquire token for tenant 'b4c9f32e-da17-4ded-9c95-ce9da38f25d9' with error 'SharedTokenCacheCredential authentication unavailable. Token acquisition failed for user lukejmurray@gmail.com. Ensure that you have authenticated with a developer tool that supports Azure single sign on.'\u001b[0m\n",
      "\u001b[97;40mFound a virtual network: vnet-aue-prod\u001b[0m\n",
      "\u001b[92mThis virtual network is in network-rg-prod\u001b[0m\n",
      "\u001b[92mThis Virtual Network is in lukemurray-mvp-azsponsorship-sub-dev\u001b[0m\n",
      "\u001b[97;40mFound a virtual network: vnet-aue-prod\u001b[0m\n",
      "\u001b[92mThis virtual network is in network-rg-prod\u001b[0m\n",
      "\u001b[92mThis Virtual Network is in lukemurray-mvp-visualstudioenterprise-sub-dev\u001b[0m\n"
     ]
    }
   ],
   "source": [
    "\n",
    "# Scripting constructs: loops and conditional statements\n",
    "$subscriptions = Get-AzSubscription\n",
    "\n",
    "foreach ($subscription in $subscriptions) {\n",
    "$resource = Get-AzResource | Where-Object {$_.ResourceType -eq 'Microsoft.Network/virtualNetworks'} \n",
    "\n",
    "    if ($resource.ResourceType -eq 'Microsoft.Network/virtualNetworks') {\n",
    "        Write-Host \"Found a virtual network: $($resource.Name)\" -BackgroundColor Black -ForegroundColor White\n",
    "        Write-Host \"This virtual network is in $($resource.ResourceGroupName)\" -ForegroundColor Green\n",
    "        Write-Host \"This Virtual Network is in $($subscription.Name)\" -ForegroundColor Green\n",
    "    }\n",
    "}"
   ]
  },
  {
   "cell_type": "code",
   "execution_count": 34,
   "metadata": {
    "dotnet_interactive": {
     "language": "pwsh"
    },
    "polyglot_notebook": {
     "kernelName": "pwsh"
    }
   },
   "outputs": [
    {
     "name": "stdout",
     "output_type": "stream",
     "text": [
      "\u001b[91mAn error occurred: Resource group 'NonexistentResourceGroup' could not be found.\n",
      "StatusCode: 404\n",
      "ReasonPhrase: Not Found\n",
      "OperationID : a4750e81-9df0-41bd-9f0e-05385fec9fe2. Make sure you have selected the right Resource Group\u001b[0m\n"
     ]
    },
    {
     "ename": "Error",
     "evalue": "Command failed: SubmitCode: # Error handling in PowerShell ...",
     "output_type": "error",
     "traceback": [
      "Command failed: SubmitCode: # Error handling in PowerShell ..."
     ]
    }
   ],
   "source": [
    "# Error handling in PowerShell\n",
    "try {\n",
    "    Get-AzResource -ResourceGroupName \"NonexistentResourceGroup\" -ErrorAction Stop\n",
    "} catch {\n",
    "    Write-Host \"An error occurred: $_. Make sure you have selected the right Resource Group\" -ForegroundColor Red\n",
    "}"
   ]
  }
 ],
 "metadata": {
  "kernelspec": {
   "display_name": ".NET (C#)",
   "language": "C#",
   "name": ".net-csharp"
  },
  "language_info": {
   "name": "polyglot-notebook"
  },
  "polyglot_notebook": {
   "kernelInfo": {
    "defaultKernelName": "csharp",
    "items": [
     {
      "aliases": [],
      "name": "csharp"
     },
     {
      "aliases": [],
      "languageName": "pwsh",
      "name": "pwsh"
     }
    ]
   }
  }
 },
 "nbformat": 4,
 "nbformat_minor": 2
}
