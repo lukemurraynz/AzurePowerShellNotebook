{
 "cells": [
  {
   "cell_type": "markdown",
   "metadata": {},
   "source": [
    "# Introduction to PowerShell in Azure\n",
    "\n",
    "## PowerShell\n",
    "\n",
    "PowerShell is a powerful scripting and automation framework developed by Microsoft. It is designed for task automation and configuration management and is particularly useful for managing and automating Microsoft Windows environments. PowerShell uses a command-line interface with a scriptable approach, and it's built on the .NET Framework.\n",
    "\n",
    "* [What is PowerShell?](https://learn.microsoft.com/powershell/scripting/overview?view=powershell-7.3&WT.mc_id=AZ-MVP-5004796)\n",
    "\n",
    "## PowerShell and Microsoft Azure\n",
    "\n",
    "When it comes to Microsoft Azure, PowerShell provides a robust set of cmdlets (pronounced \"command-lets\") that enable you to interact with and manage Azure resources, making it a valuable tool for working with Azure services. \n",
    "\n",
    "When you run a PowerShell cmdlet to, for example, create a virtual machine or retrieve information about an Azure resource, the cmdlet translates your request into an HTTP request to the relevant Azure REST API endpoint.\n",
    "\n",
    "* [Azure PowerShell Documentation](https://learn.microsoft.com/powershell/azure/?view=azps-10.4.1&WT.mc_id=AZ-MVP-5004796)\n",
    "\n",
    "## Notebook\n",
    "\n",
    "Computational notebooks are interactive environments that allow users to write and execute code, view results, and add explanatory text in a single document. They are often used for data analysis, scientific research, and sharing code and insights.\n",
    "\n",
    "The term \"polyglot\" in this context means that you can use multiple programming languages within the same notebook. For example, Jupyter notebooks, one of the most popular types of computational notebooks, can support various programming languages like Python, R, Julia, and more.\n",
    "\n",
    "The ability to use multiple languages in a single notebook can be valuable when you want to combine the strengths of different programming languages for a specific task or when collaborating with individuals who have expertise in different languages. It allows you to create a more versatile and flexible computing environment within a single document.\n",
    "\n",
    "We are using a .NET interactive notebook supporting PowerShell, for the purposes of this course.\n",
    "\n",
    "* [Polyglot Notebooks! Multi-language notebooks in Visual Studio Code](https://devblogs.microsoft.com/dotnet/announcing-polyglot-notebooks-harness-the-power-of-multilanguage-notebooks-in-visual-studio-code/?WT.mc_id=AZ-MVP-5004796)"
   ]
  },
  {
   "cell_type": "code",
   "execution_count": null,
   "metadata": {
    "dotnet_interactive": {
     "language": "pwsh"
    },
    "polyglot_notebook": {
     "kernelName": "pwsh"
    }
   },
   "outputs": [],
   "source": [
    "# Get PSVersion\n",
    "# The command $PSVersionTable is used to display the version of PowerShell that is currently being used.\n",
    "# The output of this command includes information such as the PowerShell version, the CLR version, the build version, and the PSRemoting protocol version.\n",
    "# This command is useful when you need to check the PowerShell version for compatibility with scripts or modules, or when reporting issues.\n",
    "# A supported version of PowerShell version 7 or higher is the recommended version of PowerShell for use with the Az PowerShell module on all platforms including Windows, Linux, and macOS.\n",
    "\n",
    "\n",
    "$PSVersionTable"
   ]
  },
  {
   "cell_type": "markdown",
   "metadata": {},
   "source": [
    "## Setting up your Azure environment for PowerShell"
   ]
  },
  {
   "cell_type": "code",
   "execution_count": null,
   "metadata": {
    "dotnet_interactive": {
     "language": "pwsh"
    },
    "polyglot_notebook": {
     "kernelName": "pwsh"
    }
   },
   "outputs": [],
   "source": [
    "# Install Azure Modules\n",
    "# The Set-PSRepository cmdlet is used to set values for a registered repository. \n",
    "# The Install-Module cmdlet is used to download one or more modules from an online gallery and installs them on the local computer. In this case, the command is installing the Az module, which provides cmdlets for managing Azure resources.\n",
    "Set-PSRepository -Name 'PSGallery' -InstallationPolicy Trusted\n",
    "Install-Module Az "
   ]
  },
  {
   "cell_type": "code",
   "execution_count": null,
   "metadata": {
    "dotnet_interactive": {
     "language": "pwsh"
    },
    "polyglot_notebook": {
     "kernelName": "pwsh"
    }
   },
   "outputs": [],
   "source": [
    "# Install Azure Module as Current User (as opposed to System)\n",
    "# '-Scope CurrentUser` specifies that the module should be installed only for the current user. If you don't specify a scope, the default is `AllUsers`, which requires administrator permissions.\n",
    "\n",
    "Install-Module -Name Az -Repository PSGallery -Scope CurrentUser"
   ]
  },
  {
   "cell_type": "code",
   "execution_count": null,
   "metadata": {
    "dotnet_interactive": {
     "language": "pwsh"
    },
    "polyglot_notebook": {
     "kernelName": "pwsh"
    }
   },
   "outputs": [],
   "source": [
    "# Install specific version of Azure Modules\n",
    "\n",
    "Install-Module -Name Az -RequiredVersion 4.6.1 "
   ]
  },
  {
   "cell_type": "code",
   "execution_count": null,
   "metadata": {
    "dotnet_interactive": {
     "language": "pwsh"
    },
    "polyglot_notebook": {
     "kernelName": "pwsh"
    }
   },
   "outputs": [],
   "source": [
    "# Update Azure Module\n",
    "# The command Get-InstalledModule -Name Az* | Update-Module is used to update all installed PowerShell modules that start with \"Az\".\n",
    "Set-PSRepository -Name 'PSGallery' -InstallationPolicy Trusted\n",
    "Get-InstalledModule -Name Az* | Update-Module"
   ]
  },
  {
   "cell_type": "code",
   "execution_count": null,
   "metadata": {
    "dotnet_interactive": {
     "language": "pwsh"
    },
    "polyglot_notebook": {
     "kernelName": "pwsh"
    }
   },
   "outputs": [],
   "source": [
    "# Gets Az Commands\n",
    "# Note: Will take a while for all the cmdlets to list.\n",
    "Get-Command -Noun Az*\n"
   ]
  },
  {
   "cell_type": "code",
   "execution_count": null,
   "metadata": {
    "dotnet_interactive": {
     "language": "pwsh"
    },
    "polyglot_notebook": {
     "kernelName": "pwsh"
    }
   },
   "outputs": [],
   "source": [
    "# Get Help\n",
    "Get-Help -Name Get-AzVM -Examples"
   ]
  },
  {
   "cell_type": "markdown",
   "metadata": {},
   "source": [
    "## Getting started with Azure PowerShell module"
   ]
  },
  {
   "cell_type": "code",
   "execution_count": null,
   "metadata": {
    "dotnet_interactive": {
     "language": "pwsh"
    },
    "polyglot_notebook": {
     "kernelName": "pwsh"
    }
   },
   "outputs": [],
   "source": [
    "# Connect to Azure\n",
    "# WARNING: Interactive authentication is not supported in this session, please run cmdlet 'Connect-AzAccount -UseDeviceAuthentication'.\n",
    "Connect-AzAccount -UseDeviceAuthentication"
   ]
  },
  {
   "cell_type": "code",
   "execution_count": null,
   "metadata": {
    "dotnet_interactive": {
     "language": "pwsh"
    },
    "polyglot_notebook": {
     "kernelName": "pwsh"
    }
   },
   "outputs": [],
   "source": [
    "# Connect to Azure using Service Principal authentication\n",
    "\n",
    "$SecurePassword = ConvertTo-SecureString -String \"Password123!\" -AsPlainText -Force\n",
    "$TenantId = 'yyyyyyyy-yyyy-yyyy-yyyy-yyyyyyy'\n",
    "$ApplicationId = 'zzzzzzzz-zzzz-zzzz-zzzz-zzzzzzzz'\n",
    "$Credential = New-Object -TypeName System.Management.Automation.PSCredential -ArgumentList $ApplicationId, $SecurePassword\n",
    "Connect-AzAccount -ServicePrincipal -TenantId $TenantId -Credential $Credential"
   ]
  },
  {
   "cell_type": "code",
   "execution_count": null,
   "metadata": {
    "dotnet_interactive": {
     "language": "pwsh"
    },
    "polyglot_notebook": {
     "kernelName": "pwsh"
    }
   },
   "outputs": [],
   "source": [
    "# Get Azure Subscriptions\n",
    "Get-AzSubscription"
   ]
  },
  {
   "cell_type": "code",
   "execution_count": null,
   "metadata": {
    "dotnet_interactive": {
     "language": "pwsh"
    },
    "polyglot_notebook": {
     "kernelName": "pwsh"
    }
   },
   "outputs": [],
   "source": [
    "# Select Azure Subscription\n",
    "$subid = ''\n",
    "Set-AzContext -SubscriptionId $subid"
   ]
  },
  {
   "cell_type": "code",
   "execution_count": null,
   "metadata": {
    "dotnet_interactive": {
     "language": "pwsh"
    },
    "polyglot_notebook": {
     "kernelName": "pwsh"
    }
   },
   "outputs": [],
   "source": [
    "# Get Azure resource groups and resources\n",
    "Get-AzResourceGroup | Format-Table\n",
    "Get-AzResource | Format-Table"
   ]
  },
  {
   "cell_type": "code",
   "execution_count": null,
   "metadata": {
    "dotnet_interactive": {
     "language": "pwsh"
    },
    "polyglot_notebook": {
     "kernelName": "pwsh"
    }
   },
   "outputs": [],
   "source": [
    "# Get Azure resource\n",
    "Get-AzResource"
   ]
  },
  {
   "cell_type": "code",
   "execution_count": null,
   "metadata": {
    "dotnet_interactive": {
     "language": "pwsh"
    },
    "polyglot_notebook": {
     "kernelName": "pwsh"
    }
   },
   "outputs": [],
   "source": [
    "# Get Azure resource by ResourceType\n",
    "Get-AzResource | Where-Object {$_.ResourceType -eq 'Microsoft.Network/virtualNetworks'} \n"
   ]
  },
  {
   "cell_type": "code",
   "execution_count": null,
   "metadata": {
    "dotnet_interactive": {
     "language": "pwsh"
    },
    "polyglot_notebook": {
     "kernelName": "pwsh"
    }
   },
   "outputs": [],
   "source": [
    "# Sort Azure resource by Name and Resource Group\n",
    "Get-AzResource | Where-Object {$_.ResourceType -eq 'Microsoft.Storage/storageAccounts'} | Sort-Object Name\n",
    "Get-AzResource | Sort-Object ResourceGroupName "
   ]
  },
  {
   "cell_type": "code",
   "execution_count": null,
   "metadata": {
    "dotnet_interactive": {
     "language": "pwsh"
    },
    "polyglot_notebook": {
     "kernelName": "pwsh"
    }
   },
   "outputs": [],
   "source": [
    "# Working with Variables\n",
    "\n",
    "# Working with variables and data types in PowerShell\n",
    "$resourceType = 'Microsoft.Network/virtualNetworks'\n",
    "Get-AzResource | Where-Object {$_.ResourceType -eq $resourceType}"
   ]
  },
  {
   "cell_type": "code",
   "execution_count": null,
   "metadata": {
    "dotnet_interactive": {
     "language": "pwsh"
    },
    "polyglot_notebook": {
     "kernelName": "pwsh"
    }
   },
   "outputs": [],
   "source": [
    "# Using PowerShell operators for comparisons and calculations\n",
    "\n",
    "$resources = Get-AzResource\n",
    "$count = $resources.Count\n",
    "Write-Host \"You have $count resources in your Azure subscription.\""
   ]
  },
  {
   "cell_type": "code",
   "execution_count": null,
   "metadata": {
    "dotnet_interactive": {
     "language": "pwsh"
    },
    "polyglot_notebook": {
     "kernelName": "pwsh"
    }
   },
   "outputs": [],
   "source": [
    "# Scripting constructs: loops and conditional statements\n",
    "$resources = Get-AzResource\n",
    "\n",
    "foreach ($resource in $resources) {\n",
    "    if ($resource.ResourceType -eq 'Microsoft.Network/virtualNetworks') {\n",
    "        Write-Host \"Found a virtual network: $($resource.Name)\"\n",
    "        Write-Host \"This virtual network is in $($resource.ResourceGroupName)\" -ForegroundColor Green\n",
    "    }\n",
    "}"
   ]
  },
  {
   "cell_type": "code",
   "execution_count": null,
   "metadata": {
    "dotnet_interactive": {
     "language": "pwsh"
    },
    "polyglot_notebook": {
     "kernelName": "pwsh"
    }
   },
   "outputs": [],
   "source": [
    "\n",
    "# Scripting constructs: loops and conditional statements\n",
    "$subscriptions = Get-AzSubscription\n",
    "\n",
    "foreach ($subscription in $subscriptions) {\n",
    "$resource = Get-AzResource | Where-Object {$_.ResourceType -eq 'Microsoft.Network/virtualNetworks'} \n",
    "\n",
    "    if ($resource.ResourceType -eq 'Microsoft.Network/virtualNetworks') {\n",
    "        Write-Host \"Found a virtual network: $($resource.Name)\" -BackgroundColor Black -ForegroundColor White\n",
    "        Write-Host \"This virtual network is in $($resource.ResourceGroupName)\" -ForegroundColor Green\n",
    "        Write-Host \"This Virtual Network is in $($subscription.Name)\" -ForegroundColor Green\n",
    "    }\n",
    "}"
   ]
  },
  {
   "cell_type": "code",
   "execution_count": null,
   "metadata": {
    "dotnet_interactive": {
     "language": "pwsh"
    },
    "polyglot_notebook": {
     "kernelName": "pwsh"
    }
   },
   "outputs": [],
   "source": [
    "# Error handling in PowerShell\n",
    "try {\n",
    "    Get-AzResource -ResourceGroupName \"NonexistentResourceGroup\" -ErrorAction Stop\n",
    "} catch {\n",
    "    Write-Host \"An error occurred: $_. Make sure you have selected the right Resource Group\" -ForegroundColor Red\n",
    "}"
   ]
  }
 ],
 "metadata": {
  "kernelspec": {
   "display_name": ".NET (C#)",
   "language": "C#",
   "name": ".net-csharp"
  },
  "language_info": {
   "name": "polyglot-notebook"
  },
  "polyglot_notebook": {
   "kernelInfo": {
    "defaultKernelName": "csharp",
    "items": [
     {
      "aliases": [],
      "name": "csharp"
     },
     {
      "aliases": [],
      "languageName": "pwsh",
      "name": "pwsh"
     }
    ]
   }
  }
 },
 "nbformat": 4,
 "nbformat_minor": 2
}
