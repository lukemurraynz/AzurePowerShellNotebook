{
 "cells": [
  {
   "cell_type": "markdown",
   "metadata": {},
   "source": [
    "# Basic Azure Resource Management\n",
    "\n",
    "## PowerShell\n",
    "\n",
    "PowerShell is a powerful scripting and automation framework developed by Microsoft. It is designed for task automation and configuration management and is particularly useful for managing and automating Microsoft Windows environments. PowerShell uses a command-line interface with a scriptable approach, and it's built on the .NET Framework.\n",
    "\n",
    "* [What is PowerShell?](https://learn.microsoft.com/powershell/scripting/overview?view=powershell-7.3&WT.mc_id=AZ-MVP-5004796)\n",
    "\n",
    "## PowerShell and Microsoft Azure\n",
    "\n",
    "When it comes to Microsoft Azure, PowerShell provides a robust set of cmdlets (pronounced \"command-lets\") that enable you to interact with and manage Azure resources, making it a valuable tool for working with Azure services. \n",
    "\n",
    "When you run a PowerShell cmdlet to, for example, create a virtual machine or retrieve information about an Azure resource, the cmdlet translates your request into an HTTP request to the relevant Azure REST API endpoint.\n",
    "\n",
    "* [Azure PowerShell Documentation](https://learn.microsoft.com/powershell/azure/?view=azps-10.4.1&WT.mc_id=AZ-MVP-5004796)"
   ]
  },
  {
   "cell_type": "markdown",
   "metadata": {},
   "source": [
    "## Resource Creation"
   ]
  },
  {
   "cell_type": "code",
   "execution_count": null,
   "metadata": {
    "dotnet_interactive": {
     "language": "pwsh"
    },
    "polyglot_notebook": {
     "kernelName": "pwsh"
    }
   },
   "outputs": [],
   "source": [
    "# Import Module\n",
    "Import-Module Az -Verbose"
   ]
  },
  {
   "cell_type": "code",
   "execution_count": null,
   "metadata": {
    "dotnet_interactive": {
     "language": "pwsh"
    },
    "polyglot_notebook": {
     "kernelName": "pwsh"
    }
   },
   "outputs": [],
   "source": [
    "#Create Azure Resource Group\n",
    "New-AzResourceGroup -Name \"MyResourceGroup\" -Location \"West US\""
   ]
  },
  {
   "cell_type": "code",
   "execution_count": null,
   "metadata": {
    "dotnet_interactive": {
     "language": "pwsh"
    },
    "polyglot_notebook": {
     "kernelName": "pwsh"
    }
   },
   "outputs": [],
   "source": [
    "# Get Regions\n",
    "\n",
    "Get-AzLocation | Select-Object -First 1\n",
    "Get-AzLocation | Select-Object DisplayName, Location, PhysicalLocation, GeographyGroup | Format-Table\n"
   ]
  },
  {
   "cell_type": "code",
   "execution_count": null,
   "metadata": {
    "dotnet_interactive": {
     "language": "pwsh"
    },
    "polyglot_notebook": {
     "kernelName": "pwsh"
    }
   },
   "outputs": [],
   "source": [
    "#Create Azure Resource Group\n",
    "$region = 'AustraliaEast'\n",
    "New-AzResourceGroup -Name \"MyResourceGroup$region\" -Location $region"
   ]
  },
  {
   "cell_type": "code",
   "execution_count": null,
   "metadata": {
    "dotnet_interactive": {
     "language": "pwsh"
    },
    "polyglot_notebook": {
     "kernelName": "pwsh"
    }
   },
   "outputs": [],
   "source": [
    "# Create a storage account (attempt1)\n",
    "\n",
    "$region = 'AustraliaEast'\n",
    "$ResourceGroupName = \"MyResourceGroup$region\"\n",
    "New-AzStorageAccount -ResourceGroupName $ResourceGroupName -Name \"mystorageaccount\" -Location $region -SkuName Standard_LRS -AllowBlobPublicAccess $false"
   ]
  },
  {
   "cell_type": "code",
   "execution_count": null,
   "metadata": {
    "dotnet_interactive": {
     "language": "pwsh"
    },
    "polyglot_notebook": {
     "kernelName": "pwsh"
    }
   },
   "outputs": [],
   "source": [
    "# Create a storage account (attempt2)\n",
    "$uniqueId = [guid]::NewGuid().ToString().Substring(0,4)\n",
    "$region = 'AustraliaEast'\n",
    "$ResourceGroupName = \"MyResourceGroup$region\"\n",
    "New-AzStorageAccount -ResourceGroupName $ResourceGroupName -Name \"mystgacc$uniqueId\" -Location $region -SkuName Standard_LRS -AllowBlobPublicAccess $false -verbose"
   ]
  },
  {
   "cell_type": "code",
   "execution_count": null,
   "metadata": {
    "dotnet_interactive": {
     "language": "pwsh"
    },
    "polyglot_notebook": {
     "kernelName": "pwsh"
    }
   },
   "outputs": [],
   "source": [
    "#Remove Azure Storage account\n",
    "$region = 'AustraliaEast'\n",
    "$ResourceGroupName = $ResourceGroupName\n",
    "Remove-AzStorageAccount -ResourceGroupName $ResourceGroupName -Name \"mystgacc$uniqueId\" -Force -verbose\n",
    "Get-AzStorageAccount -ResourceGroupName $ResourceGroupName -Name \"mystgacc$uniqueId\" -verbose"
   ]
  },
  {
   "cell_type": "code",
   "execution_count": null,
   "metadata": {
    "dotnet_interactive": {
     "language": "pwsh"
    },
    "polyglot_notebook": {
     "kernelName": "pwsh"
    }
   },
   "outputs": [],
   "source": [
    "# Create an Azure Virtual Network\n",
    "$region = 'AustraliaEast'\n",
    "$ResourceGroupName = 'network-prod-rg'\n",
    "$VNetname = 'vnet-prod'\n",
    "$subnetname = 'infraservers'\n",
    "$subnetAddressPrefix = '10.0.0.0/24'\n",
    "\n",
    "# Create a resource group\n",
    "$ResourceGroup = Get-AzResourceGroup -Name $ResourceGroupName -ErrorAction SilentlyContinue\n",
    "\n",
    "if ($null -eq $ResourceGroup)\n",
    "{\n",
    "    Write-Host \"Creating Resource Group $ResourceGroupName in $region\" -ForegroundColor Yellow\n",
    "    $ResourceGroup = New-AzResourceGroup -Name $ResourceGroupName -Location $region -Force\n",
    "}\n",
    "else\n",
    "{\n",
    "    Write-Host \"Resource Group $ResourceGroupName already exists in $region\" -ForegroundColor Green\n",
    "}\n",
    "\n",
    "# Create a virtual network\n",
    "$AzVNET = New-AzVirtualNetwork -ResourceGroupName $ResourceGroupName -Name $VNetname -AddressPrefix '10.0.0.0/16' -Location $region\n",
    "\n",
    "# Create a subnet\n",
    "$subnetConfig = Add-AzVirtualNetworkSubnetConfig -Name $subnetname -AddressPrefix $subnetAddressPrefix -VirtualNetwork $AzVNET\n",
    "\n"
   ]
  },
  {
   "cell_type": "code",
   "execution_count": null,
   "metadata": {
    "dotnet_interactive": {
     "language": "pwsh"
    },
    "polyglot_notebook": {
     "kernelName": "pwsh"
    }
   },
   "outputs": [],
   "source": [
    "# Get full object output\n",
    "# Alias (This is a pipeline to the Format-List cmdlet (fl is an alias for Format-List). It formats the output as a list of properties for each object. This can make it easier to read the details of the virtual network.)\n",
    "\n",
    "Get-AzVirtualNetwork -ResourceGroupName $ResourceGroupName -Name $VNetname # | fl"
   ]
  },
  {
   "cell_type": "code",
   "execution_count": null,
   "metadata": {
    "dotnet_interactive": {
     "language": "pwsh"
    },
    "polyglot_notebook": {
     "kernelName": "pwsh"
    }
   },
   "outputs": [],
   "source": [
    "# Alias\n",
    "\n",
    "Get-Alias  | Select-Object -First 2"
   ]
  },
  {
   "cell_type": "code",
   "execution_count": null,
   "metadata": {
    "dotnet_interactive": {
     "language": "pwsh"
    },
    "polyglot_notebook": {
     "kernelName": "pwsh"
    }
   },
   "outputs": [],
   "source": [
    "#splat\n",
    "\n",
    "$configData = @{\n",
    "    ResourceGroupName = \"MyResourceGroup\"\n",
    "    Location = \"West US\"\n",
    "    StorageAccountName = \"stgacctest100\"\n",
    "}\n",
    "\n",
    "try {\n",
    "    New-AzStorageAccount -ResourceGroupName $configData.ResourceGroupName -Name $configData.StorageAccountName -Location $configData.Location -SkuName Standard_LRS\n",
    "} catch {\n",
    "    Write-Error \"Failed to create storage account: $_\"\n",
    "}"
   ]
  },
  {
   "cell_type": "code",
   "execution_count": null,
   "metadata": {
    "dotnet_interactive": {
     "language": "pwsh"
    },
    "polyglot_notebook": {
     "kernelName": "pwsh"
    }
   },
   "outputs": [],
   "source": [
    "#splat as parameter\n",
    "\n",
    "$configData = @{\n",
    "    \"ResourceGroupName\" = \"MyResourceGroup\"\n",
    "    \"Location\" = \"West US\"\n",
    "    \"StorageAccountName\" = \"stgacctest100\"\n",
    "    \"SkuName\" = \"Standard_LRS\"\n",
    "\n",
    "}\n",
    "\n",
    "try {\n",
    "    New-AzStorageAccount @configData\n",
    "} catch {\n",
    "    Write-Error \"Failed to create storage account: $_\"\n",
    "}"
   ]
  },
  {
   "cell_type": "code",
   "execution_count": null,
   "metadata": {
    "dotnet_interactive": {
     "language": "pwsh"
    },
    "polyglot_notebook": {
     "kernelName": "pwsh"
    }
   },
   "outputs": [],
   "source": [
    "# Tags\n",
    "$ResourceGroupName = 'TagTestRG'\n",
    "New-AzResourceGroup -Name $ResourceGroupName -Location 'AustraliaEast'\n",
    "Set-AzResourceGroup -Name $ResourceGroupName -Tag @{ Department = \"Finance\"; Project = \"Q1\" }"
   ]
  },
  {
   "cell_type": "code",
   "execution_count": null,
   "metadata": {
    "dotnet_interactive": {
     "language": "pwsh"
    },
    "polyglot_notebook": {
     "kernelName": "pwsh"
    }
   },
   "outputs": [],
   "source": [
    "# Get Tag Resource Group\n",
    "$ResourceGroupName = 'TagTestRG'\n",
    "(Get-AzResourceGroup -Name $ResourceGroupName).Tags"
   ]
  },
  {
   "cell_type": "code",
   "execution_count": null,
   "metadata": {
    "dotnet_interactive": {
     "language": "pwsh"
    },
    "polyglot_notebook": {
     "kernelName": "pwsh"
    }
   },
   "outputs": [],
   "source": [
    "$ResourceGroupName = 'TagTestRG'\n",
    "$tags = (Get-AzResourceGroup -Name $ResourceGroupName).Tags\n",
    "$tags.Remove(\"Project\")\n",
    "Set-AzResourceGroup -Name $ResourceGroupName -Tag $tags"
   ]
  }
 ],
 "metadata": {
  "kernelspec": {
   "display_name": ".NET (C#)",
   "language": "C#",
   "name": ".net-csharp"
  },
  "language_info": {
   "name": "polyglot-notebook"
  },
  "polyglot_notebook": {
   "kernelInfo": {
    "defaultKernelName": "csharp",
    "items": [
     {
      "aliases": [],
      "name": "csharp"
     },
     {
      "aliases": [],
      "languageName": "pwsh",
      "name": "pwsh"
     }
    ]
   }
  }
 },
 "nbformat": 4,
 "nbformat_minor": 2
}
