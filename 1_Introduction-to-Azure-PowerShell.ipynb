{
 "cells": [
  {
   "cell_type": "markdown",
   "metadata": {},
   "source": [
    "# Introduction to PowerShell in Azure"
   ]
  },
  {
   "cell_type": "code",
   "execution_count": null,
   "metadata": {
    "dotnet_interactive": {
     "language": "pwsh"
    },
    "polyglot_notebook": {
     "kernelName": "pwsh"
    }
   },
   "outputs": [],
   "source": [
    "# Get PSVersion\n",
    "$PSVersionTable"
   ]
  },
  {
   "cell_type": "markdown",
   "metadata": {},
   "source": [
    "## Setting up your Azure environment for PowerShell"
   ]
  },
  {
   "cell_type": "code",
   "execution_count": 9,
   "metadata": {
    "dotnet_interactive": {
     "language": "pwsh"
    },
    "polyglot_notebook": {
     "kernelName": "pwsh"
    }
   },
   "outputs": [],
   "source": [
    "# Install Azure Modules\n",
    "\n",
    "Set-PSRepository -Name 'PSGallery' -InstallationPolicy Trusted\n",
    "Install-Module Az "
   ]
  },
  {
   "cell_type": "code",
   "execution_count": null,
   "metadata": {
    "dotnet_interactive": {
     "language": "pwsh"
    },
    "polyglot_notebook": {
     "kernelName": "pwsh"
    }
   },
   "outputs": [],
   "source": [
    "# Install Azure Module as Current User (as opposed to System)\n",
    "\n",
    "Install-Module -Name Az -Repository PSGallery -Scope CurrentUser"
   ]
  },
  {
   "cell_type": "code",
   "execution_count": 2,
   "metadata": {
    "dotnet_interactive": {
     "language": "pwsh"
    },
    "polyglot_notebook": {
     "kernelName": "pwsh"
    }
   },
   "outputs": [
    {
     "ename": "Error",
     "evalue": "Microsoft.DotNet.Interactive.NoSuitableKernelException: No kernel found for Microsoft.DotNet.Interactive.Commands.RequestHoverText with target kernel 'pwsh'.\n   at Microsoft.DotNet.Interactive.Commands.KernelCommand.InvokeAsync(KernelInvocationContext context) in D:\\a\\_work\\1\\s\\src\\Microsoft.DotNet.Interactive\\Commands\\KernelCommand.cs:line 184\n   at Microsoft.DotNet.Interactive.Kernel.HandleAsync(KernelCommand command, KernelInvocationContext context) in D:\\a\\_work\\1\\s\\src\\Microsoft.DotNet.Interactive\\Kernel.cs:line 324\n   at Microsoft.DotNet.Interactive.KernelCommandPipeline.<BuildPipeline>b__6_0(KernelCommand command, KernelInvocationContext context, KernelPipelineContinuation _) in D:\\a\\_work\\1\\s\\src\\Microsoft.DotNet.Interactive\\KernelCommandPipeline.cs:line 60\n   at Microsoft.DotNet.Interactive.KernelCommandPipeline.SendAsync(KernelCommand command, KernelInvocationContext context) in D:\\a\\_work\\1\\s\\src\\Microsoft.DotNet.Interactive\\KernelCommandPipeline.cs:line 51",
     "output_type": "error",
     "traceback": [
      "Microsoft.DotNet.Interactive.NoSuitableKernelException: No kernel found for Microsoft.DotNet.Interactive.Commands.RequestHoverText with target kernel 'pwsh'.\n",
      "   at Microsoft.DotNet.Interactive.Commands.KernelCommand.InvokeAsync(KernelInvocationContext context) in D:\\a\\_work\\1\\s\\src\\Microsoft.DotNet.Interactive\\Commands\\KernelCommand.cs:line 184\n",
      "   at Microsoft.DotNet.Interactive.Kernel.HandleAsync(KernelCommand command, KernelInvocationContext context) in D:\\a\\_work\\1\\s\\src\\Microsoft.DotNet.Interactive\\Kernel.cs:line 324\n",
      "   at Microsoft.DotNet.Interactive.KernelCommandPipeline.<BuildPipeline>b__6_0(KernelCommand command, KernelInvocationContext context, KernelPipelineContinuation _) in D:\\a\\_work\\1\\s\\src\\Microsoft.DotNet.Interactive\\KernelCommandPipeline.cs:line 60\n",
      "   at Microsoft.DotNet.Interactive.KernelCommandPipeline.SendAsync(KernelCommand command, KernelInvocationContext context) in D:\\a\\_work\\1\\s\\src\\Microsoft.DotNet.Interactive\\KernelCommandPipeline.cs:line 51"
     ]
    },
    {
     "ename": "Error",
     "evalue": "Microsoft.DotNet.Interactive.NoSuitableKernelException: No kernel found for Microsoft.DotNet.Interactive.Commands.RequestHoverText with target kernel 'pwsh'.\n   at Microsoft.DotNet.Interactive.Commands.KernelCommand.InvokeAsync(KernelInvocationContext context) in D:\\a\\_work\\1\\s\\src\\Microsoft.DotNet.Interactive\\Commands\\KernelCommand.cs:line 184\n   at Microsoft.DotNet.Interactive.Kernel.HandleAsync(KernelCommand command, KernelInvocationContext context) in D:\\a\\_work\\1\\s\\src\\Microsoft.DotNet.Interactive\\Kernel.cs:line 324\n   at Microsoft.DotNet.Interactive.KernelCommandPipeline.<BuildPipeline>b__6_0(KernelCommand command, KernelInvocationContext context, KernelPipelineContinuation _) in D:\\a\\_work\\1\\s\\src\\Microsoft.DotNet.Interactive\\KernelCommandPipeline.cs:line 60\n   at Microsoft.DotNet.Interactive.KernelCommandPipeline.SendAsync(KernelCommand command, KernelInvocationContext context) in D:\\a\\_work\\1\\s\\src\\Microsoft.DotNet.Interactive\\KernelCommandPipeline.cs:line 51",
     "output_type": "error",
     "traceback": [
      "Microsoft.DotNet.Interactive.NoSuitableKernelException: No kernel found for Microsoft.DotNet.Interactive.Commands.RequestHoverText with target kernel 'pwsh'.\n",
      "   at Microsoft.DotNet.Interactive.Commands.KernelCommand.InvokeAsync(KernelInvocationContext context) in D:\\a\\_work\\1\\s\\src\\Microsoft.DotNet.Interactive\\Commands\\KernelCommand.cs:line 184\n",
      "   at Microsoft.DotNet.Interactive.Kernel.HandleAsync(KernelCommand command, KernelInvocationContext context) in D:\\a\\_work\\1\\s\\src\\Microsoft.DotNet.Interactive\\Kernel.cs:line 324\n",
      "   at Microsoft.DotNet.Interactive.KernelCommandPipeline.<BuildPipeline>b__6_0(KernelCommand command, KernelInvocationContext context, KernelPipelineContinuation _) in D:\\a\\_work\\1\\s\\src\\Microsoft.DotNet.Interactive\\KernelCommandPipeline.cs:line 60\n",
      "   at Microsoft.DotNet.Interactive.KernelCommandPipeline.SendAsync(KernelCommand command, KernelInvocationContext context) in D:\\a\\_work\\1\\s\\src\\Microsoft.DotNet.Interactive\\KernelCommandPipeline.cs:line 51"
     ]
    },
    {
     "ename": "Error",
     "evalue": "System.Management.Automation.InvalidPowerShellStateException: The state of the current PowerShell instance is not valid for this operation.\n   at System.Management.Automation.PowerShell.AssertChangesAreAccepted()\n   at System.Management.Automation.PSCommand.AddCommand(Command command)\n   at System.Management.Automation.PowerShell.AddCommand(CommandInfo commandInfo)\n   at Microsoft.DotNet.Interactive.PowerShell.PowerShellKernel.ReportError(ErrorRecord error) in D:\\a\\_work\\1\\s\\src\\Microsoft.DotNet.Interactive.PowerShell\\PowerShellKernel.cs:line 407\n   at Microsoft.DotNet.Interactive.PowerShell.PowerShellKernel.ReportException(Exception e) in D:\\a\\_work\\1\\s\\src\\Microsoft.DotNet.Interactive.PowerShell\\PowerShellKernel.cs:line 418\n   at Microsoft.DotNet.Interactive.PowerShell.PowerShellKernel.RunSubmitCodeLocally(String code) in D:\\a\\_work\\1\\s\\src\\Microsoft.DotNet.Interactive.PowerShell\\PowerShellKernel.cs:line 385\n   at Microsoft.DotNet.Interactive.PowerShell.PowerShellKernel.Microsoft.DotNet.Interactive.IKernelCommandHandler<Microsoft.DotNet.Interactive.Commands.SubmitCode>.HandleAsync(SubmitCode submitCode, KernelInvocationContext context) in D:\\a\\_work\\1\\s\\src\\Microsoft.DotNet.Interactive.PowerShell\\PowerShellKernel.cs:line 280\n   at Microsoft.DotNet.Interactive.Kernel.HandleAsync(KernelCommand command, KernelInvocationContext context) in D:\\a\\_work\\1\\s\\src\\Microsoft.DotNet.Interactive\\Kernel.cs:line 324\n   at Microsoft.DotNet.Interactive.KernelCommandPipeline.<BuildPipeline>b__6_0(KernelCommand command, KernelInvocationContext context, KernelPipelineContinuation _) in D:\\a\\_work\\1\\s\\src\\Microsoft.DotNet.Interactive\\KernelCommandPipeline.cs:line 60\n   at Microsoft.DotNet.Interactive.KernelCommandPipeline.SendAsync(KernelCommand command, KernelInvocationContext context) in D:\\a\\_work\\1\\s\\src\\Microsoft.DotNet.Interactive\\KernelCommandPipeline.cs:line 51",
     "output_type": "error",
     "traceback": [
      "System.Management.Automation.InvalidPowerShellStateException: The state of the current PowerShell instance is not valid for this operation.\n",
      "   at System.Management.Automation.PowerShell.AssertChangesAreAccepted()\n",
      "   at System.Management.Automation.PSCommand.AddCommand(Command command)\n",
      "   at System.Management.Automation.PowerShell.AddCommand(CommandInfo commandInfo)\n",
      "   at Microsoft.DotNet.Interactive.PowerShell.PowerShellKernel.ReportError(ErrorRecord error) in D:\\a\\_work\\1\\s\\src\\Microsoft.DotNet.Interactive.PowerShell\\PowerShellKernel.cs:line 407\n",
      "   at Microsoft.DotNet.Interactive.PowerShell.PowerShellKernel.ReportException(Exception e) in D:\\a\\_work\\1\\s\\src\\Microsoft.DotNet.Interactive.PowerShell\\PowerShellKernel.cs:line 418\n",
      "   at Microsoft.DotNet.Interactive.PowerShell.PowerShellKernel.RunSubmitCodeLocally(String code) in D:\\a\\_work\\1\\s\\src\\Microsoft.DotNet.Interactive.PowerShell\\PowerShellKernel.cs:line 385\n",
      "   at Microsoft.DotNet.Interactive.PowerShell.PowerShellKernel.Microsoft.DotNet.Interactive.IKernelCommandHandler<Microsoft.DotNet.Interactive.Commands.SubmitCode>.HandleAsync(SubmitCode submitCode, KernelInvocationContext context) in D:\\a\\_work\\1\\s\\src\\Microsoft.DotNet.Interactive.PowerShell\\PowerShellKernel.cs:line 280\n",
      "   at Microsoft.DotNet.Interactive.Kernel.HandleAsync(KernelCommand command, KernelInvocationContext context) in D:\\a\\_work\\1\\s\\src\\Microsoft.DotNet.Interactive\\Kernel.cs:line 324\n",
      "   at Microsoft.DotNet.Interactive.KernelCommandPipeline.<BuildPipeline>b__6_0(KernelCommand command, KernelInvocationContext context, KernelPipelineContinuation _) in D:\\a\\_work\\1\\s\\src\\Microsoft.DotNet.Interactive\\KernelCommandPipeline.cs:line 60\n",
      "   at Microsoft.DotNet.Interactive.KernelCommandPipeline.SendAsync(KernelCommand command, KernelInvocationContext context) in D:\\a\\_work\\1\\s\\src\\Microsoft.DotNet.Interactive\\KernelCommandPipeline.cs:line 51"
     ]
    },
    {
     "data": {
      "text/plain": []
     },
     "metadata": {},
     "output_type": "display_data"
    }
   ],
   "source": [
    "# Install specific version of Azure Modules\n",
    "\n",
    "Install-Module -Name Az -RequiredVersion 4.6.1 "
   ]
  },
  {
   "cell_type": "code",
   "execution_count": null,
   "metadata": {
    "dotnet_interactive": {
     "language": "pwsh"
    },
    "polyglot_notebook": {
     "kernelName": "pwsh"
    }
   },
   "outputs": [],
   "source": [
    "# Update Azure Module\n",
    "\n",
    "Set-PSRepository -Name 'PSGallery' -InstallationPolicy Trusted\n",
    "Get-InstalledModule -Name Az* | Update-Module"
   ]
  },
  {
   "cell_type": "code",
   "execution_count": null,
   "metadata": {
    "dotnet_interactive": {
     "language": "pwsh"
    },
    "polyglot_notebook": {
     "kernelName": "pwsh"
    }
   },
   "outputs": [],
   "source": [
    "# Gets Az Commands\n",
    "# Note: Will take a while for all the cmdlets to list.\n",
    "Get-Command -Noun Az*\n"
   ]
  },
  {
   "cell_type": "markdown",
   "metadata": {},
   "source": [
    "## Getting started with Azure PowerShell module"
   ]
  },
  {
   "cell_type": "code",
   "execution_count": 14,
   "metadata": {
    "dotnet_interactive": {
     "language": "pwsh"
    },
    "polyglot_notebook": {
     "kernelName": "pwsh"
    }
   },
   "outputs": [
    {
     "name": "stdout",
     "output_type": "stream",
     "text": [
      "\u001b[93mWARNING: To sign in, use a web browser to open the page https://microsoft.com/devicelogin and enter the code JEQEF358T to authenticate.\u001b[0m\n",
      "\u001b[93mWARNING: TenantId '2463cfda-1c0b-43f5-b6e5-1c370752bb93' contains more than one active subscription. First one will be selected for further use. To select another subscription, use Set-AzContext. \n",
      "To override which subscription Connect-AzAccount selects by default, use `Update-AzConfig -DefaultSubscriptionForLogin 00000000-0000-0000-0000-000000000000`. Go to https://go.microsoft.com/fwlink/?linkid=2200610 for more information.\u001b[0m\n",
      "\u001b[93mWARNING: Unable to acquire token for tenant 'b4c9f32e-da17-4ded-9c95-ce9da38f25d9' with error 'SharedTokenCacheCredential authentication unavailable. Token acquisition failed for user lukejmurray@gmail.com. Ensure that you have authenticated with a developer tool that supports Azure single sign on.'\u001b[0m\n",
      "\u001b[93mWARNING: Unable to acquire token for tenant 'b4c9f32e-da17-4ded-9c95-ce9da38f25d9' with error 'SharedTokenCacheCredential authentication unavailable. Token acquisition failed for user lukejmurray@gmail.com. Ensure that you have authenticated with a developer tool that supports Azure single sign on.'\u001b[0m\n",
      "\n",
      "\u001b[32;1mAccount               SubscriptionName                     TenantId                             Env\u001b[0m\n",
      "\u001b[32;1m                                                                                                iro\u001b[0m\n",
      "\u001b[32;1m                                                                                                nme\u001b[0m\n",
      "\u001b[32;1m                                                                                                nt\u001b[0m\n",
      "\u001b[32;1m-------               ----------------                     --------                             ---\u001b[0m\n",
      "lukejmurray@gmail.com lukemurray-mvp-azsponsorship-sub-dev 2463cfda-1c0b-43f5-b6e5-1c370752bb93 Az…\n",
      "\n"
     ]
    }
   ],
   "source": [
    "# Connect to Azure\n",
    "# WARNING: Interactive authentication is not supported in this session, please run cmdlet 'Connect-AzAccount -UseDeviceAuthentication'.\n",
    "Connect-AzAccount -UseDeviceAuthentication"
   ]
  },
  {
   "cell_type": "code",
   "execution_count": null,
   "metadata": {
    "dotnet_interactive": {
     "language": "pwsh"
    },
    "polyglot_notebook": {
     "kernelName": "pwsh"
    }
   },
   "outputs": [],
   "source": [
    "# Connect to Azure using Service Principal authentication\n",
    "\n",
    "$SecurePassword = ConvertTo-SecureString -String \"Password123!\" -AsPlainText -Force\n",
    "$TenantId = 'yyyyyyyy-yyyy-yyyy-yyyy-yyyyyyy'\n",
    "$ApplicationId = 'zzzzzzzz-zzzz-zzzz-zzzz-zzzzzzzz'\n",
    "$Credential = New-Object -TypeName System.Management.Automation.PSCredential -ArgumentList $ApplicationId, $SecurePassword\n",
    "Connect-AzAccount -ServicePrincipal -TenantId $TenantId -Credential $Credential"
   ]
  },
  {
   "cell_type": "code",
   "execution_count": 15,
   "metadata": {
    "dotnet_interactive": {
     "language": "pwsh"
    },
    "polyglot_notebook": {
     "kernelName": "pwsh"
    }
   },
   "outputs": [
    {
     "name": "stdout",
     "output_type": "stream",
     "text": [
      "\u001b[93mWARNING: Unable to acquire token for tenant 'b4c9f32e-da17-4ded-9c95-ce9da38f25d9' with error 'SharedTokenCacheCredential authentication unavailable. Token acquisition failed for user lukejmurray@gmail.com. Ensure that you have authenticated with a developer tool that supports Azure single sign on.'\u001b[0m\n",
      "\n",
      "\u001b[32;1mName                                          Id                                   TenantId\u001b[0m\n",
      "\u001b[32;1m----                                          --                                   --------        \u001b[0m\n",
      "lukemurray-mvp-azsponsorship-sub-dev          6bca53bc-98d9-4cd3-92e7-0364c7bffac4 2463cfda-1c0b-4…\n",
      "lukemurray-mvp-visualstudioenterprise-sub-dev 11b74992-d520-46e1-a9e9-b55c57d2e890 2463cfda-1c0b-4…\n",
      "\n"
     ]
    }
   ],
   "source": [
    "# Get Azure Subscriptions\n",
    "Get-AzSubscription"
   ]
  },
  {
   "cell_type": "code",
   "execution_count": 19,
   "metadata": {
    "dotnet_interactive": {
     "language": "pwsh"
    },
    "polyglot_notebook": {
     "kernelName": "pwsh"
    }
   },
   "outputs": [
    {
     "name": "stdout",
     "output_type": "stream",
     "text": [
      "\u001b[31;1mSet-AzContext: \u001b[0m\n",
      "\u001b[31;1m\u001b[36;1mLine |\u001b[0m\n",
      "\u001b[31;1m\u001b[36;1m\u001b[36;1m   3 | \u001b[0m Set-AzContext -SubscriptionId \u001b[36;1m$subid\u001b[0m\n",
      "\u001b[31;1m\u001b[36;1m\u001b[36;1m\u001b[0m\u001b[36;1m\u001b[0m\u001b[36;1m     | \u001b[31;1m                               ~~~~~~\u001b[0m\n",
      "\u001b[31;1m\u001b[36;1m\u001b[36;1m\u001b[0m\u001b[36;1m\u001b[0m\u001b[36;1m\u001b[31;1m\u001b[31;1m\u001b[36;1m     | \u001b[31;1mCannot validate argument on parameter 'Subscription'. The argument is null or empty. Provide an argument that is not null or empty, and then try the command again.\u001b[0m\n"
     ]
    },
    {
     "ename": "Error",
     "evalue": "Command failed: SubmitCode: # Select Azure Subscription ...",
     "output_type": "error",
     "traceback": [
      "Command failed: SubmitCode: # Select Azure Subscription ..."
     ]
    }
   ],
   "source": [
    "# Select Azure Subscription\n",
    "$subid = ''\n",
    "Set-AzContext -SubscriptionId $subid"
   ]
  },
  {
   "cell_type": "code",
   "execution_count": null,
   "metadata": {
    "dotnet_interactive": {
     "language": "pwsh"
    },
    "polyglot_notebook": {
     "kernelName": "pwsh"
    }
   },
   "outputs": [],
   "source": [
    "# Get Azure resource groups and resources\n",
    "Get-AzResourceGroup | Format-Table\n",
    "Get-AzResource | Format-Table"
   ]
  },
  {
   "cell_type": "code",
   "execution_count": 9,
   "metadata": {
    "dotnet_interactive": {
     "language": "pwsh"
    },
    "polyglot_notebook": {
     "kernelName": "pwsh"
    }
   },
   "outputs": [
    {
     "name": "stdout",
     "output_type": "stream",
     "text": [
      "\n",
      "\u001b[32;1mName              : \u001b[0mbckvault\n",
      "\u001b[32;1mResourceGroupName : \u001b[0mbackup-rg-prod\n",
      "\u001b[32;1mResourceType      : \u001b[0mMicrosoft.RecoveryServices/vaults\n",
      "\u001b[32;1mLocation          : \u001b[0maustraliaeast\n",
      "\u001b[32;1mResourceId        : \u001b[0m/subscriptions/6bca53bc-98d9-4cd3-92e7-0364c7bffac4/resourceGroups/backup-rg-pr\n",
      "                    od/providers/Microsoft.RecoveryServices/vaults/bckvault\n",
      "\u001b[32;1mTags              : \u001b[0m\n",
      "\n",
      "\u001b[32;1mName              : \u001b[0mprod-rsv-aue\n",
      "\u001b[32;1mResourceGroupName : \u001b[0mbackuprsv-prod\n",
      "\u001b[32;1mResourceType      : \u001b[0mMicrosoft.RecoveryServices/vaults\n",
      "\u001b[32;1mLocation          : \u001b[0maustraliaeast\n",
      "\u001b[32;1mResourceId        : \u001b[0m/subscriptions/6bca53bc-98d9-4cd3-92e7-0364c7bffac4/resourceGroups/backuprsv-pr\n",
      "                    od/providers/Microsoft.RecoveryServices/vaults/prod-rsv-aue\n",
      "\u001b[32;1mTags              : \u001b[0m\n",
      "                    Name               Value      \n",
      "                    =================  ===========\n",
      "                    Environment        Production \n",
      "                    Application Owner  Luke Murray\n",
      "                    \n",
      "\n",
      "\u001b[32;1mName              : \u001b[0msdddd\n",
      "\u001b[32;1mResourceGroupName : \u001b[0merer\n",
      "\u001b[32;1mResourceType      : \u001b[0mMicrosoft.CognitiveServices/accounts\n",
      "\u001b[32;1mLocation          : \u001b[0meastus\n",
      "\u001b[32;1mResourceId        : \u001b[0m/subscriptions/6bca53bc-98d9-4cd3-92e7-0364c7bffac4/resourceGroups/erer/provide\n",
      "                    rs/Microsoft.CognitiveServices/accounts/sdddd\n",
      "\u001b[32;1mTags              : \u001b[0m\n",
      "\n",
      "\u001b[32;1mName              : \u001b[0mNetworkWatcher_australiaeast\n",
      "\u001b[32;1mResourceGroupName : \u001b[0mnetwork-rg-prod\n",
      "\u001b[32;1mResourceType      : \u001b[0mMicrosoft.Network/networkWatchers\n",
      "\u001b[32;1mLocation          : \u001b[0maustraliaeast\n",
      "\u001b[32;1mResourceId        : \u001b[0m/subscriptions/6bca53bc-98d9-4cd3-92e7-0364c7bffac4/resourceGroups/network-rg-p\n",
      "                    rod/providers/Microsoft.Network/networkWatchers/NetworkWatcher_australiaeast\n",
      "\u001b[32;1mTags              : \u001b[0m\n",
      "\n",
      "\u001b[32;1mName              : \u001b[0mvnet-aue-prod\n",
      "\u001b[32;1mResourceGroupName : \u001b[0mnetwork-rg-prod\n",
      "\u001b[32;1mResourceType      : \u001b[0mMicrosoft.Network/virtualNetworks\n",
      "\u001b[32;1mLocation          : \u001b[0maustraliaeast\n",
      "\u001b[32;1mResourceId        : \u001b[0m/subscriptions/6bca53bc-98d9-4cd3-92e7-0364c7bffac4/resourceGroups/network-rg-p\n",
      "                    rod/providers/Microsoft.Network/virtualNetworks/vnet-aue-prod\n",
      "\u001b[32;1mTags              : \u001b[0m\n",
      "\n",
      "\n"
     ]
    }
   ],
   "source": [
    "# Get Azure resource\n",
    "Get-AzResource #| Where-Object $_.ResourceType -eq 'Microsoft.Network/virtualNetworks'"
   ]
  }
 ],
 "metadata": {
  "kernelspec": {
   "display_name": ".NET (C#)",
   "language": "C#",
   "name": ".net-csharp"
  },
  "language_info": {
   "name": "polyglot-notebook"
  },
  "polyglot_notebook": {
   "kernelInfo": {
    "defaultKernelName": "csharp",
    "items": [
     {
      "aliases": [],
      "name": "csharp"
     },
     {
      "aliases": [],
      "languageName": "pwsh",
      "name": "pwsh"
     }
    ]
   }
  }
 },
 "nbformat": 4,
 "nbformat_minor": 2
}
