{
 "cells": [
  {
   "cell_type": "markdown",
   "metadata": {},
   "source": [
    "# Basic Azure Resource Management\n",
    "\n",
    "## PowerShell\n",
    "\n",
    "PowerShell is a powerful scripting and automation framework developed by Microsoft. It is designed for task automation and configuration management and is particularly useful for managing and automating Microsoft Windows environments. PowerShell uses a command-line interface with a scriptable approach, and it's built on the .NET Framework.\n",
    "\n",
    "* [What is PowerShell?](https://learn.microsoft.com/powershell/scripting/overview?view=powershell-7.3&WT.mc_id=AZ-MVP-5004796)\n",
    "\n",
    "## PowerShell and Microsoft Azure\n",
    "\n",
    "When it comes to Microsoft Azure, PowerShell provides a robust set of cmdlets (pronounced \"command-lets\") that enable you to interact with and manage Azure resources, making it a valuable tool for working with Azure services. \n",
    "\n",
    "When you run a PowerShell cmdlet to, for example, create a virtual machine or retrieve information about an Azure resource, the cmdlet translates your request into an HTTP request to the relevant Azure REST API endpoint.\n",
    "\n",
    "* [Azure PowerShell Documentation](https://learn.microsoft.com/powershell/azure/?view=azps-10.4.1&WT.mc_id=AZ-MVP-5004796)"
   ]
  },
  {
   "cell_type": "markdown",
   "metadata": {},
   "source": [
    "## Resource Creation"
   ]
  },
  {
   "cell_type": "code",
   "execution_count": 2,
   "metadata": {
    "dotnet_interactive": {
     "language": "pwsh"
    },
    "polyglot_notebook": {
     "kernelName": "pwsh"
    }
   },
   "outputs": [
    {
     "name": "stdout",
     "output_type": "stream",
     "text": [
      "\u001b[93mVERBOSE: Loading module from path '/root/.local/share/powershell/Modules/Az/10.4.1/Az.psd1'.\u001b[0m\n"
     ]
    }
   ],
   "source": [
    "# Import Module\n",
    "Import-Module Az -Verbose"
   ]
  },
  {
   "cell_type": "code",
   "execution_count": null,
   "metadata": {
    "dotnet_interactive": {
     "language": "pwsh"
    },
    "polyglot_notebook": {
     "kernelName": "pwsh"
    }
   },
   "outputs": [],
   "source": [
    "#Create Azure Resource Group\n",
    "New-AzResourceGroup -Name \"MyResourceGroup\" -Location \"West US\""
   ]
  },
  {
   "cell_type": "code",
   "execution_count": 15,
   "metadata": {
    "dotnet_interactive": {
     "language": "pwsh"
    },
    "polyglot_notebook": {
     "kernelName": "pwsh"
    }
   },
   "outputs": [
    {
     "name": "stdout",
     "output_type": "stream",
     "text": [
      "\n",
      "\u001b[32;1mLocation         : \u001b[0meastus\n",
      "\u001b[32;1mDisplayName      : \u001b[0mEast US\n",
      "\u001b[32;1mType             : \u001b[0mRegion\n",
      "\u001b[32;1mLongitude        : \u001b[0m-79.8164\n",
      "\u001b[32;1mLatitude         : \u001b[0m37.3719\n",
      "\u001b[32;1mPhysicalLocation : \u001b[0mVirginia\n",
      "\u001b[32;1mRegionType       : \u001b[0mPhysical\n",
      "\u001b[32;1mRegionCategory   : \u001b[0mRecommended\n",
      "\u001b[32;1mGeographyGroup   : \u001b[0mUS\n",
      "\u001b[32;1mPairedRegion     : \u001b[0m[\n",
      "                     {\n",
      "                       \"Name\": \"westus\",\n",
      "                       \"Id\": \n",
      "                   \"/subscriptions/6bca53bc-98d9-4cd3-92e7-0364c7bffac4/locations/westus\",\n",
      "                       \"SubscriptionId\": null\n",
      "                     }\n",
      "                   ]\n",
      "\u001b[32;1mProviders        : \u001b[0m{Microsoft.ContainerRegistry, Microsoft.AlertsManagement, microsoft.insights, \n",
      "                   Microsoft.DesktopVirtualization…}\n",
      "\n"
     ]
    },
    {
     "ename": "Error",
     "evalue": "Microsoft.DotNet.Interactive.NoSuitableKernelException: No kernel found for Microsoft.DotNet.Interactive.Commands.RequestHoverText with target kernel 'pwsh'.\n   at Microsoft.DotNet.Interactive.Commands.KernelCommand.InvokeAsync(KernelInvocationContext context) in D:\\a\\_work\\1\\s\\src\\Microsoft.DotNet.Interactive\\Commands\\KernelCommand.cs:line 184\n   at Microsoft.DotNet.Interactive.Kernel.HandleAsync(KernelCommand command, KernelInvocationContext context) in D:\\a\\_work\\1\\s\\src\\Microsoft.DotNet.Interactive\\Kernel.cs:line 324\n   at Microsoft.DotNet.Interactive.KernelCommandPipeline.<BuildPipeline>b__6_0(KernelCommand command, KernelInvocationContext context, KernelPipelineContinuation _) in D:\\a\\_work\\1\\s\\src\\Microsoft.DotNet.Interactive\\KernelCommandPipeline.cs:line 60\n   at Microsoft.DotNet.Interactive.KernelCommandPipeline.SendAsync(KernelCommand command, KernelInvocationContext context) in D:\\a\\_work\\1\\s\\src\\Microsoft.DotNet.Interactive\\KernelCommandPipeline.cs:line 51",
     "output_type": "error",
     "traceback": [
      "Microsoft.DotNet.Interactive.NoSuitableKernelException: No kernel found for Microsoft.DotNet.Interactive.Commands.RequestHoverText with target kernel 'pwsh'.\n",
      "   at Microsoft.DotNet.Interactive.Commands.KernelCommand.InvokeAsync(KernelInvocationContext context) in D:\\a\\_work\\1\\s\\src\\Microsoft.DotNet.Interactive\\Commands\\KernelCommand.cs:line 184\n",
      "   at Microsoft.DotNet.Interactive.Kernel.HandleAsync(KernelCommand command, KernelInvocationContext context) in D:\\a\\_work\\1\\s\\src\\Microsoft.DotNet.Interactive\\Kernel.cs:line 324\n",
      "   at Microsoft.DotNet.Interactive.KernelCommandPipeline.<BuildPipeline>b__6_0(KernelCommand command, KernelInvocationContext context, KernelPipelineContinuation _) in D:\\a\\_work\\1\\s\\src\\Microsoft.DotNet.Interactive\\KernelCommandPipeline.cs:line 60\n",
      "   at Microsoft.DotNet.Interactive.KernelCommandPipeline.SendAsync(KernelCommand command, KernelInvocationContext context) in D:\\a\\_work\\1\\s\\src\\Microsoft.DotNet.Interactive\\KernelCommandPipeline.cs:line 51"
     ]
    },
    {
     "ename": "Error",
     "evalue": "Microsoft.DotNet.Interactive.NoSuitableKernelException: No kernel found for Microsoft.DotNet.Interactive.Commands.RequestHoverText with target kernel 'pwsh'.\n   at Microsoft.DotNet.Interactive.Commands.KernelCommand.InvokeAsync(KernelInvocationContext context) in D:\\a\\_work\\1\\s\\src\\Microsoft.DotNet.Interactive\\Commands\\KernelCommand.cs:line 184\n   at Microsoft.DotNet.Interactive.Kernel.HandleAsync(KernelCommand command, KernelInvocationContext context) in D:\\a\\_work\\1\\s\\src\\Microsoft.DotNet.Interactive\\Kernel.cs:line 324\n   at Microsoft.DotNet.Interactive.KernelCommandPipeline.<BuildPipeline>b__6_0(KernelCommand command, KernelInvocationContext context, KernelPipelineContinuation _) in D:\\a\\_work\\1\\s\\src\\Microsoft.DotNet.Interactive\\KernelCommandPipeline.cs:line 60\n   at Microsoft.DotNet.Interactive.KernelCommandPipeline.SendAsync(KernelCommand command, KernelInvocationContext context) in D:\\a\\_work\\1\\s\\src\\Microsoft.DotNet.Interactive\\KernelCommandPipeline.cs:line 51",
     "output_type": "error",
     "traceback": [
      "Microsoft.DotNet.Interactive.NoSuitableKernelException: No kernel found for Microsoft.DotNet.Interactive.Commands.RequestHoverText with target kernel 'pwsh'.\n",
      "   at Microsoft.DotNet.Interactive.Commands.KernelCommand.InvokeAsync(KernelInvocationContext context) in D:\\a\\_work\\1\\s\\src\\Microsoft.DotNet.Interactive\\Commands\\KernelCommand.cs:line 184\n",
      "   at Microsoft.DotNet.Interactive.Kernel.HandleAsync(KernelCommand command, KernelInvocationContext context) in D:\\a\\_work\\1\\s\\src\\Microsoft.DotNet.Interactive\\Kernel.cs:line 324\n",
      "   at Microsoft.DotNet.Interactive.KernelCommandPipeline.<BuildPipeline>b__6_0(KernelCommand command, KernelInvocationContext context, KernelPipelineContinuation _) in D:\\a\\_work\\1\\s\\src\\Microsoft.DotNet.Interactive\\KernelCommandPipeline.cs:line 60\n",
      "   at Microsoft.DotNet.Interactive.KernelCommandPipeline.SendAsync(KernelCommand command, KernelInvocationContext context) in D:\\a\\_work\\1\\s\\src\\Microsoft.DotNet.Interactive\\KernelCommandPipeline.cs:line 51"
     ]
    },
    {
     "name": "stdout",
     "output_type": "stream",
     "text": [
      "\n",
      "\n",
      "\u001b[32;1mDisplayName          Location           PhysicalLocation GeographyGroup\u001b[0m\n",
      "\u001b[32;1m-----------          --------           ---------------- --------------\u001b[0m\n",
      "East US              eastus             Virginia         US\n",
      "East US 2            eastus2            Virginia         US\n",
      "South Central US     southcentralus     Texas            US\n",
      "West US 2            westus2            Washington       US\n",
      "West US 3            westus3            Phoenix          US\n",
      "Australia East       australiaeast      New South Wales  Asia Pacific\n",
      "Southeast Asia       southeastasia      Singapore        Asia Pacific\n",
      "North Europe         northeurope        Ireland          Europe\n",
      "Sweden Central       swedencentral      Gävle            Europe\n",
      "UK South             uksouth            London           Europe\n",
      "West Europe          westeurope         Netherlands      Europe\n",
      "Central US           centralus          Iowa             US\n",
      "South Africa North   southafricanorth   Johannesburg     Africa\n",
      "Central India        centralindia       Pune             Asia Pacific\n",
      "East Asia            eastasia           Hong Kong        Asia Pacific\n",
      "Japan East           japaneast          Tokyo, Saitama   Asia Pacific\n",
      "Korea Central        koreacentral       Seoul            Asia Pacific\n",
      "Canada Central       canadacentral      Toronto          Canada\n",
      "France Central       francecentral      Paris            Europe\n",
      "Germany West Central germanywestcentral Frankfurt        Europe\n",
      "Italy North          italynorth         Milan            Europe\n",
      "Norway East          norwayeast         Norway           Europe\n",
      "Poland Central       polandcentral      Warsaw           Europe\n",
      "Switzerland North    switzerlandnorth   Zurich           Europe\n",
      "UAE North            uaenorth           Dubai            Middle East\n",
      "Brazil South         brazilsouth        Sao Paulo State  South America\n",
      "Central US EUAP      centraluseuap                       US\n",
      "Israel Central       israelcentral      Israel           Middle East\n",
      "Qatar Central        qatarcentral       Doha             Middle East\n",
      "Asia                 asia                                \n",
      "Asia Pacific         asiapacific                         \n",
      "Australia            australia                           \n",
      "Brazil               brazil                              \n",
      "Canada               canada                              \n",
      "Europe               europe                              \n",
      "France               france                              \n",
      "Germany              germany                             \n",
      "Global               global                              \n",
      "India                india                               \n",
      "Japan                japan                               \n",
      "Korea                korea                               \n",
      "Norway               norway                              \n",
      "Singapore            singapore                           \n",
      "South Africa         southafrica                         \n",
      "Switzerland          switzerland                         \n",
      "United States        unitedstates                        \n",
      "North Central US     northcentralus     Illinois         US\n",
      "West US              westus             California       US\n",
      "East US 2 EUAP       eastus2euap                         US\n",
      "West Central US      westcentralus      Wyoming          US\n",
      "South Africa West    southafricawest    Cape Town        Africa\n",
      "Australia Central    australiacentral   Canberra         Asia Pacific\n",
      "Australia Central 2  australiacentral2  Canberra         Asia Pacific\n",
      "Australia Southeast  australiasoutheast Victoria         Asia Pacific\n",
      "Japan West           japanwest          Osaka            Asia Pacific\n",
      "Korea South          koreasouth         Busan            Asia Pacific\n",
      "South India          southindia         Chennai          Asia Pacific\n",
      "West India           westindia          Mumbai           Asia Pacific\n",
      "Canada East          canadaeast         Quebec           Canada\n",
      "France South         francesouth        Marseille        Europe\n",
      "Germany North        germanynorth       Berlin           Europe\n",
      "Norway West          norwaywest         Norway           Europe\n",
      "Switzerland West     switzerlandwest    Geneva           Europe\n",
      "UK West              ukwest             Cardiff          Europe\n",
      "UAE Central          uaecentral         Abu Dhabi        Middle East\n",
      "Brazil Southeast     brazilsoutheast    Rio              South America\n",
      "\n"
     ]
    }
   ],
   "source": [
    "# Get Regions\n",
    "\n",
    "Get-AzLocation | Select-Object -First 1\n",
    "Get-AzLocation | Select-Object DisplayName, Location, PhysicalLocation, GeographyGroup | Format-Table\n"
   ]
  },
  {
   "cell_type": "code",
   "execution_count": 19,
   "metadata": {
    "dotnet_interactive": {
     "language": "pwsh"
    },
    "polyglot_notebook": {
     "kernelName": "pwsh"
    }
   },
   "outputs": [
    {
     "name": "stdout",
     "output_type": "stream",
     "text": [
      "\n",
      "\u001b[32;1mResourceGroupName : \u001b[0mMyResourceGroupAustraliaEast\n",
      "\u001b[32;1mLocation          : \u001b[0maustraliaeast\n",
      "\u001b[32;1mProvisioningState : \u001b[0mSucceeded\n",
      "\u001b[32;1mTags              : \u001b[0m\n",
      "\u001b[32;1mResourceId        : \u001b[0m/subscriptions/6bca53bc-98d9-4cd3-92e7-0364c7bffac4/resourceGroups/MyResourceGr\n",
      "                    oupAustraliaEast\n",
      "\n",
      "\n"
     ]
    }
   ],
   "source": [
    "#Create Azure Resource Group\n",
    "$region = 'AustraliaEast'\n",
    "New-AzResourceGroup -Name \"MyResourceGroup$region\" -Location $region"
   ]
  },
  {
   "cell_type": "code",
   "execution_count": 29,
   "metadata": {
    "dotnet_interactive": {
     "language": "pwsh"
    },
    "polyglot_notebook": {
     "kernelName": "pwsh"
    }
   },
   "outputs": [
    {
     "name": "stdout",
     "output_type": "stream",
     "text": [
      "\u001b[93mWARNING: Upcoming breaking changes in the cmdlet 'New-AzStorageAccount' :\n",
      "Default value of AllowBlobPublicAccess and AllowCrossTenantReplication settings on storage account will be changed to False in the future release. \n",
      "When AllowBlobPublicAccess is False on a storage account, container ACLs cannot be configured to allow anonymous access to blobs within the storage account. \n",
      "When AllowCrossTenantReplication is False on a storage account, cross AAD tenant object replication is not allowed when setting up Object Replication policies.\n",
      "- The change is expected to take effect in Az version : '11.0.0'\n",
      "- The change is expected to take effect in Az.Storage version : '6.0.0'\n",
      "Cmdlet invocation changes :\n",
      "    Old Way : AllowBlobPublicAccess and AllowCrossTenantReplication are set to True by defult.\n",
      "    New Way : AllowBlobPublicAccess and AllowCrossTenantReplication are set to False by default.\n",
      "Note : Go to https://aka.ms/azps-changewarnings for steps to suppress this breaking change warning, and other information on breaking changes in Azure PowerShell.\u001b[0m\n",
      "\u001b[31;1mNew-AzStorageAccount: \u001b[0m\n",
      "\u001b[31;1m\u001b[36;1mLine |\u001b[0m\n",
      "\u001b[31;1m\u001b[36;1m\u001b[36;1m   5 | \u001b[0m \u001b[36;1mNew-AzStorageAccount -ResourceGroupName $ResourceGroupName -Name \"mys\u001b[0m …\u001b[0m\n",
      "\u001b[31;1m\u001b[36;1m\u001b[36;1m\u001b[0m\u001b[36;1m\u001b[0m\u001b[36;1m     | \u001b[31;1m ~~~~~~~~~~~~~~~~~~~~~~~~~~~~~~~~~~~~~~~~~~~~~~~~~~~~~~~~~~~~~~~~~~~~~\u001b[0m\n",
      "\u001b[31;1m\u001b[36;1m\u001b[36;1m\u001b[0m\u001b[36;1m\u001b[0m\u001b[36;1m\u001b[31;1m\u001b[31;1m\u001b[36;1m     | \u001b[31;1mThe storage account named mystorageaccount is already taken. (Parameter 'Name')\u001b[0m\n"
     ]
    },
    {
     "ename": "Error",
     "evalue": "Command failed: SubmitCode: # Create a storage account (attempt1) ...",
     "output_type": "error",
     "traceback": [
      "Command failed: SubmitCode: # Create a storage account (attempt1) ..."
     ]
    }
   ],
   "source": [
    "# Create a storage account (attempt1)\n",
    "\n",
    "$region = 'AustraliaEast'\n",
    "$ResourceGroupName = \"MyResourceGroup$region\"\n",
    "New-AzStorageAccount -ResourceGroupName $ResourceGroupName -Name \"mystorageaccount\" -Location $region -SkuName Standard_LRS -AllowBlobPublicAccess $false"
   ]
  },
  {
   "cell_type": "code",
   "execution_count": 44,
   "metadata": {
    "dotnet_interactive": {
     "language": "pwsh"
    },
    "polyglot_notebook": {
     "kernelName": "pwsh"
    }
   },
   "outputs": [
    {
     "name": "stdout",
     "output_type": "stream",
     "text": [
      "\u001b[93mWARNING: Upcoming breaking changes in the cmdlet 'New-AzStorageAccount' :\n",
      "Default value of AllowBlobPublicAccess and AllowCrossTenantReplication settings on storage account will be changed to False in the future release. \n",
      "When AllowBlobPublicAccess is False on a storage account, container ACLs cannot be configured to allow anonymous access to blobs within the storage account. \n",
      "When AllowCrossTenantReplication is False on a storage account, cross AAD tenant object replication is not allowed when setting up Object Replication policies.\n",
      "- The change is expected to take effect in Az version : '11.0.0'\n",
      "- The change is expected to take effect in Az.Storage version : '6.0.0'\n",
      "Cmdlet invocation changes :\n",
      "    Old Way : AllowBlobPublicAccess and AllowCrossTenantReplication are set to True by defult.\n",
      "    New Way : AllowBlobPublicAccess and AllowCrossTenantReplication are set to False by default.\n",
      "Note : Go to https://aka.ms/azps-changewarnings for steps to suppress this breaking change warning, and other information on breaking changes in Azure PowerShell.\u001b[0m\n",
      "\n",
      "\u001b[32;1mStorageAccountName ResourceGroupName            PrimaryLocation SkuName      Kind      AccessTier C\u001b[0m\n",
      "\u001b[32;1m                                                                                                  r\u001b[0m\n",
      "\u001b[32;1m                                                                                                  e\u001b[0m\n",
      "\u001b[32;1m                                                                                                  a\u001b[0m\n",
      "\u001b[32;1m                                                                                                  t\u001b[0m\n",
      "\u001b[32;1m                                                                                                  i\u001b[0m\n",
      "\u001b[32;1m                                                                                                  o\u001b[0m\n",
      "\u001b[32;1m                                                                                                  n\u001b[0m\n",
      "\u001b[32;1m                                                                                                  T\u001b[0m\n",
      "\u001b[32;1m                                                                                                  i\u001b[0m\n",
      "\u001b[32;1m                                                                                                  m\u001b[0m\n",
      "\u001b[32;1m                                                                                                  e\u001b[0m\n",
      "\u001b[32;1m------------------ -----------------            --------------- -------      ----      ---------- -\u001b[0m\n",
      "mystgacce3b9       MyResourceGroupAustraliaEast australiaeast   Standard_LRS StorageV2 Hot        1\n",
      "\n"
     ]
    }
   ],
   "source": [
    "# Create a storage account (attempt2)\n",
    "$uniqueId = [guid]::NewGuid().ToString().Substring(0,4)\n",
    "$region = 'AustraliaEast'\n",
    "$ResourceGroupName = \"MyResourceGroup$region\"\n",
    "New-AzStorageAccount -ResourceGroupName $ResourceGroupName -Name \"mystgacc$uniqueId\" -Location $region -SkuName Standard_LRS -AllowBlobPublicAccess $false -verbose"
   ]
  },
  {
   "cell_type": "code",
   "execution_count": 45,
   "metadata": {
    "dotnet_interactive": {
     "language": "pwsh"
    },
    "polyglot_notebook": {
     "kernelName": "pwsh"
    }
   },
   "outputs": [
    {
     "name": "stdout",
     "output_type": "stream",
     "text": [
      "\u001b[93mVERBOSE: Performing the operation \"Remove Storage Account\" on target \"mystgacce3b9\".\u001b[0m\n",
      "\u001b[31;1mGet-AzStorageAccount: \u001b[0m\n",
      "\u001b[31;1m\u001b[36;1mLine |\u001b[0m\n",
      "\u001b[31;1m\u001b[36;1m\u001b[36;1m   5 | \u001b[0m \u001b[36;1mGet-AzStorageAccount -ResourceGroupName $ResourceGroupName -Name \"mys\u001b[0m …\u001b[0m\n",
      "\u001b[31;1m\u001b[36;1m\u001b[36;1m\u001b[0m\u001b[36;1m\u001b[0m\u001b[36;1m     | \u001b[31;1m ~~~~~~~~~~~~~~~~~~~~~~~~~~~~~~~~~~~~~~~~~~~~~~~~~~~~~~~~~~~~~~~~~~~~~\u001b[0m\n",
      "\u001b[31;1m\u001b[36;1m\u001b[36;1m\u001b[0m\u001b[36;1m\u001b[0m\u001b[36;1m\u001b[31;1m\u001b[31;1m\u001b[36;1m     | \u001b[31;1mThe Resource 'Microsoft.Storage/storageAccounts/mystgacce3b9' under resource group 'MyResourceGroupAustraliaEast' was not found. For more details please go to https://aka.ms/ARMResourceNotFoundFix\u001b[0m\n"
     ]
    },
    {
     "ename": "Error",
     "evalue": "Command failed: SubmitCode: #Remove Azure Storage account ...",
     "output_type": "error",
     "traceback": [
      "Command failed: SubmitCode: #Remove Azure Storage account ..."
     ]
    }
   ],
   "source": [
    "#Remove Azure Storage account\n",
    "$region = 'AustraliaEast'\n",
    "$ResourceGroupName = $ResourceGroupName\n",
    "Remove-AzStorageAccount -ResourceGroupName $ResourceGroupName -Name \"mystgacc$uniqueId\" -Force -verbose\n",
    "Get-AzStorageAccount -ResourceGroupName $ResourceGroupName -Name \"mystgacc$uniqueId\" -verbose"
   ]
  }
 ],
 "metadata": {
  "kernelspec": {
   "display_name": ".NET (C#)",
   "language": "C#",
   "name": ".net-csharp"
  },
  "language_info": {
   "name": "polyglot-notebook"
  },
  "polyglot_notebook": {
   "kernelInfo": {
    "defaultKernelName": "csharp",
    "items": [
     {
      "aliases": [],
      "name": "csharp"
     },
     {
      "aliases": [],
      "languageName": "pwsh",
      "name": "pwsh"
     }
    ]
   }
  }
 },
 "nbformat": 4,
 "nbformat_minor": 2
}
